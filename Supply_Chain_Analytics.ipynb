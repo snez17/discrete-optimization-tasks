{
  "nbformat": 4,
  "nbformat_minor": 0,
  "metadata": {
    "colab": {
      "provenance": [],
      "authorship_tag": "ABX9TyN7rNKYAbT9tmGDZ1RBwDm2",
      "include_colab_link": true
    },
    "kernelspec": {
      "name": "python3",
      "display_name": "Python 3"
    },
    "language_info": {
      "name": "python"
    }
  },
  "cells": [
    {
      "cell_type": "markdown",
      "metadata": {
        "id": "view-in-github",
        "colab_type": "text"
      },
      "source": [
        "<a href=\"https://colab.research.google.com/github/snez17/studyworks/blob/main/Supply_Chain_Analytics.ipynb\" target=\"_parent\"><img src=\"https://colab.research.google.com/assets/colab-badge.svg\" alt=\"Open In Colab\"/></a>"
      ]
    },
    {
      "cell_type": "code",
      "execution_count": 4,
      "metadata": {
        "colab": {
          "base_uri": "https://localhost:8080/"
        },
        "id": "p8Af5kNw7KwJ",
        "outputId": "ac6dd381-38b7-40fd-bcfe-77df198181ed"
      },
      "outputs": [
        {
          "output_type": "stream",
          "name": "stdout",
          "text": [
            "Collecting pulp\n",
            "  Downloading PuLP-2.7.0-py3-none-any.whl (14.3 MB)\n",
            "\u001b[2K     \u001b[90m━━━━━━━━━━━━━━━━━━━━━━━━━━━━━━━━━━━━━━━━\u001b[0m \u001b[32m14.3/14.3 MB\u001b[0m \u001b[31m31.1 MB/s\u001b[0m eta \u001b[36m0:00:00\u001b[0m\n",
            "\u001b[?25hInstalling collected packages: pulp\n",
            "Successfully installed pulp-2.7.0\n"
          ]
        }
      ],
      "source": [
        "pip install pulp"
      ]
    },
    {
      "cell_type": "code",
      "source": [
        "from pulp import *\n",
        "\n",
        "#Initialize Class\n",
        "model = LpProblem(name=\"Maximize Bakery Profits\", sense=LpMaximize)"
      ],
      "metadata": {
        "id": "FgSL_ILu7mhQ",
        "outputId": "50af4e29-81b3-4b22-ce1e-8941c2283928",
        "colab": {
          "base_uri": "https://localhost:8080/"
        }
      },
      "execution_count": 5,
      "outputs": [
        {
          "output_type": "stream",
          "name": "stderr",
          "text": [
            "/usr/local/lib/python3.10/dist-packages/pulp/pulp.py:1352: UserWarning: Spaces are not permitted in the name. Converted to '_'\n",
            "  warnings.warn(\"Spaces are not permitted in the name. Converted to '_'\")\n"
          ]
        }
      ]
    },
    {
      "cell_type": "code",
      "source": [
        "#Define Decision Variables\n",
        "A = LpVariable('A', lowBound=0, cat='Integer')   #cakes\n",
        "B = LpVariable('B', lowBound=0, cat='Integer')   #puncakes"
      ],
      "metadata": {
        "id": "9MRrtiUS8JiQ"
      },
      "execution_count": null,
      "outputs": []
    },
    {
      "cell_type": "code",
      "source": [
        "#Define Objective Function\n",
        "model += 20*A + 40*B   #profit for cakes and puncakes"
      ],
      "metadata": {
        "colab": {
          "base_uri": "https://localhost:8080/"
        },
        "id": "CAgyO9K08ZUX",
        "outputId": "5c8e4eee-e1b7-4565-ac59-e6a94caedf36"
      },
      "execution_count": null,
      "outputs": [
        {
          "output_type": "stream",
          "name": "stderr",
          "text": [
            "/usr/local/lib/python3.10/dist-packages/pulp/pulp.py:1704: UserWarning: Overwriting previously set objective.\n",
            "  warnings.warn(\"Overwriting previously set objective.\")\n"
          ]
        }
      ]
    },
    {
      "cell_type": "code",
      "source": [
        "#Define Constraints\n",
        "model += 0.5*A + 1*B <=30   #oven works only 30 days\n",
        "model += 1*A + 2.5*B <=60   #two bakers work only 30 days\n",
        "model += 1*A + 2*B <=22     #one packers work only 22 days"
      ],
      "metadata": {
        "id": "94t21cqy8rWj"
      },
      "execution_count": null,
      "outputs": []
    },
    {
      "cell_type": "code",
      "source": [
        "#Solve model\n",
        "model.solve()\n",
        "print('Produce {} Cake A'.format(A.varValue))\n",
        "print('Produce {} Cake B'.format(B.varValue))"
      ],
      "metadata": {
        "colab": {
          "base_uri": "https://localhost:8080/"
        },
        "id": "El6Z-OII861U",
        "outputId": "6cb3343b-5276-4053-d37d-2d4c1c9e7d95"
      },
      "execution_count": null,
      "outputs": [
        {
          "output_type": "stream",
          "name": "stdout",
          "text": [
            "Produce 0.0 Cake A\n",
            "Produce 11.0 Cake B\n"
          ]
        }
      ]
    },
    {
      "cell_type": "code",
      "source": [
        "prod = ['A','B','C','D','E','F']\n",
        "weight = {'A':12800, 'B':10900,'C':11400,'D':2100,'E':11300,'F':2300}\n",
        "prof = {'A':77878,'B':82713,'C':82728,'D':68423,'E':84119,'F':77765}"
      ],
      "metadata": {
        "id": "cmY2i_tUJsog"
      },
      "execution_count": 1,
      "outputs": []
    },
    {
      "cell_type": "code",
      "source": [
        "# Initialize Class\n",
        "model = LpProblem(\"Loading Truck Problem\", LpMaximize)\n",
        "# Define Decision Variables\n",
        "x = LpVariable.dicts('ship_', prod, cat='Binary')"
      ],
      "metadata": {
        "id": "aGCwa2vFJ84r"
      },
      "execution_count": 6,
      "outputs": []
    },
    {
      "cell_type": "code",
      "source": [
        "# Define Objective\n",
        "model += lpSum([prof[i]*x[i] for i in prod])\n",
        "# Define Constraint\n",
        "model += lpSum([weight[i]*x[i] for i in prod]) <= 20000"
      ],
      "metadata": {
        "id": "e2pTyN0FKJry"
      },
      "execution_count": 7,
      "outputs": []
    },
    {
      "cell_type": "code",
      "source": [
        "# Solve Model\n",
        "model.solve()\n",
        "for i in prod: print(\"{} status {}\".format(i, x[i].varValue))"
      ],
      "metadata": {
        "id": "VrumalzyKLp0",
        "outputId": "79fd81af-8dc0-4228-98fe-c6a009d68ed8",
        "colab": {
          "base_uri": "https://localhost:8080/"
        }
      },
      "execution_count": 8,
      "outputs": [
        {
          "output_type": "stream",
          "name": "stdout",
          "text": [
            "A status 0.0\n",
            "B status 0.0\n",
            "C status 0.0\n",
            "D status 1.0\n",
            "E status 1.0\n",
            "F status 1.0\n"
          ]
        }
      ]
    }
  ]
}