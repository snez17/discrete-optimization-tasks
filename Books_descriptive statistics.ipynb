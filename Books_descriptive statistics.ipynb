{
 "cells": [
  {
   "cell_type": "code",
   "execution_count": 1,
   "metadata": {
    "execution": {
     "iopub.execute_input": "2023-06-15T15:41:14.185799Z",
     "iopub.status.busy": "2023-06-15T15:41:14.185397Z",
     "iopub.status.idle": "2023-06-15T15:41:14.225094Z",
     "shell.execute_reply": "2023-06-15T15:41:14.223910Z",
     "shell.execute_reply.started": "2023-06-15T15:41:14.185763Z"
    }
   },
   "outputs": [],
   "source": [
    "import pandas as pd"
   ]
  },
  {
   "cell_type": "code",
   "execution_count": 30,
   "metadata": {
    "execution": {
     "iopub.execute_input": "2023-06-15T16:35:39.008808Z",
     "iopub.status.busy": "2023-06-15T16:35:39.008406Z",
     "iopub.status.idle": "2023-06-15T16:35:41.994093Z",
     "shell.execute_reply": "2023-06-15T16:35:41.992801Z",
     "shell.execute_reply.started": "2023-06-15T16:35:39.008780Z"
    }
   },
   "outputs": [],
   "source": [
    "df = pd.read_csv(\"/kaggle/input/all-the-news/articles1.csv\")"
   ]
  },
  {
   "cell_type": "code",
   "execution_count": 31,
   "metadata": {
    "execution": {
     "iopub.execute_input": "2023-06-15T16:35:44.494673Z",
     "iopub.status.busy": "2023-06-15T16:35:44.494007Z",
     "iopub.status.idle": "2023-06-15T16:35:44.512382Z",
     "shell.execute_reply": "2023-06-15T16:35:44.511432Z",
     "shell.execute_reply.started": "2023-06-15T16:35:44.494639Z"
    }
   },
   "outputs": [],
   "source": [
    "df = df.drop('url', axis=1)"
   ]
  },
  {
   "cell_type": "code",
   "execution_count": 32,
   "metadata": {
    "execution": {
     "iopub.execute_input": "2023-06-15T16:35:47.416986Z",
     "iopub.status.busy": "2023-06-15T16:35:47.416036Z",
     "iopub.status.idle": "2023-06-15T16:35:47.525029Z",
     "shell.execute_reply": "2023-06-15T16:35:47.523784Z",
     "shell.execute_reply.started": "2023-06-15T16:35:47.416935Z"
    }
   },
   "outputs": [
    {
     "data": {
      "text/plain": [
       "43694"
      ]
     },
     "execution_count": 32,
     "metadata": {},
     "output_type": "execute_result"
    }
   ],
   "source": [
    "df = df.dropna()\n",
    "len(df)"
   ]
  },
  {
   "cell_type": "code",
   "execution_count": 54,
   "metadata": {
    "execution": {
     "iopub.execute_input": "2023-06-15T17:20:06.411421Z",
     "iopub.status.busy": "2023-06-15T17:20:06.410990Z",
     "iopub.status.idle": "2023-06-15T17:20:06.439488Z",
     "shell.execute_reply": "2023-06-15T17:20:06.438070Z",
     "shell.execute_reply.started": "2023-06-15T17:20:06.411391Z"
    }
   },
   "outputs": [
    {
     "data": {
      "text/html": [
       "<div>\n",
       "<style scoped>\n",
       "    .dataframe tbody tr th:only-of-type {\n",
       "        vertical-align: middle;\n",
       "    }\n",
       "\n",
       "    .dataframe tbody tr th {\n",
       "        vertical-align: top;\n",
       "    }\n",
       "\n",
       "    .dataframe thead th {\n",
       "        text-align: right;\n",
       "    }\n",
       "</style>\n",
       "<table border=\"1\" class=\"dataframe\">\n",
       "  <thead>\n",
       "    <tr style=\"text-align: right;\">\n",
       "      <th></th>\n",
       "      <th>id</th>\n",
       "      <th>title</th>\n",
       "      <th>publication</th>\n",
       "      <th>author</th>\n",
       "      <th>date</th>\n",
       "      <th>year</th>\n",
       "      <th>month</th>\n",
       "      <th>content</th>\n",
       "    </tr>\n",
       "  </thead>\n",
       "  <tbody>\n",
       "    <tr>\n",
       "      <th>0</th>\n",
       "      <td>17283</td>\n",
       "      <td>House Republicans Fret About Winning Their Hea...</td>\n",
       "      <td>New York Times</td>\n",
       "      <td>Carl Hulse</td>\n",
       "      <td>2016-12-31</td>\n",
       "      <td>2016.0</td>\n",
       "      <td>12.0</td>\n",
       "      <td>WASHINGTON  —   Congressional Republicans have...</td>\n",
       "    </tr>\n",
       "    <tr>\n",
       "      <th>1</th>\n",
       "      <td>17284</td>\n",
       "      <td>Rift Between Officers and Residents as Killing...</td>\n",
       "      <td>New York Times</td>\n",
       "      <td>Benjamin Mueller and Al Baker</td>\n",
       "      <td>2017-06-19</td>\n",
       "      <td>2017.0</td>\n",
       "      <td>6.0</td>\n",
       "      <td>After the bullet shells get counted, the blood...</td>\n",
       "    </tr>\n",
       "    <tr>\n",
       "      <th>2</th>\n",
       "      <td>17285</td>\n",
       "      <td>Tyrus Wong, ‘Bambi’ Artist Thwarted by Racial ...</td>\n",
       "      <td>New York Times</td>\n",
       "      <td>Margalit Fox</td>\n",
       "      <td>2017-01-06</td>\n",
       "      <td>2017.0</td>\n",
       "      <td>1.0</td>\n",
       "      <td>When Walt Disney’s “Bambi” opened in 1942, cri...</td>\n",
       "    </tr>\n",
       "    <tr>\n",
       "      <th>3</th>\n",
       "      <td>17286</td>\n",
       "      <td>Among Deaths in 2016, a Heavy Toll in Pop Musi...</td>\n",
       "      <td>New York Times</td>\n",
       "      <td>William McDonald</td>\n",
       "      <td>2017-04-10</td>\n",
       "      <td>2017.0</td>\n",
       "      <td>4.0</td>\n",
       "      <td>Death may be the great equalizer, but it isn’t...</td>\n",
       "    </tr>\n",
       "    <tr>\n",
       "      <th>4</th>\n",
       "      <td>17287</td>\n",
       "      <td>Kim Jong-un Says North Korea Is Preparing to T...</td>\n",
       "      <td>New York Times</td>\n",
       "      <td>Choe Sang-Hun</td>\n",
       "      <td>2017-01-02</td>\n",
       "      <td>2017.0</td>\n",
       "      <td>1.0</td>\n",
       "      <td>SEOUL, South Korea  —   North Korea’s leader, ...</td>\n",
       "    </tr>\n",
       "  </tbody>\n",
       "</table>\n",
       "</div>"
      ],
      "text/plain": [
       "      id                                              title     publication  \\\n",
       "0  17283  House Republicans Fret About Winning Their Hea...  New York Times   \n",
       "1  17284  Rift Between Officers and Residents as Killing...  New York Times   \n",
       "2  17285  Tyrus Wong, ‘Bambi’ Artist Thwarted by Racial ...  New York Times   \n",
       "3  17286  Among Deaths in 2016, a Heavy Toll in Pop Musi...  New York Times   \n",
       "4  17287  Kim Jong-un Says North Korea Is Preparing to T...  New York Times   \n",
       "\n",
       "                          author        date    year  month  \\\n",
       "0                     Carl Hulse  2016-12-31  2016.0   12.0   \n",
       "1  Benjamin Mueller and Al Baker  2017-06-19  2017.0    6.0   \n",
       "2                   Margalit Fox  2017-01-06  2017.0    1.0   \n",
       "3               William McDonald  2017-04-10  2017.0    4.0   \n",
       "4                  Choe Sang-Hun  2017-01-02  2017.0    1.0   \n",
       "\n",
       "                                             content  \n",
       "0  WASHINGTON  —   Congressional Republicans have...  \n",
       "1  After the bullet shells get counted, the blood...  \n",
       "2  When Walt Disney’s “Bambi” opened in 1942, cri...  \n",
       "3  Death may be the great equalizer, but it isn’t...  \n",
       "4  SEOUL, South Korea  —   North Korea’s leader, ...  "
      ]
     },
     "execution_count": 54,
     "metadata": {},
     "output_type": "execute_result"
    }
   ],
   "source": [
    "df.drop(columns = ['Unnamed: 0'], inplace = True)\n",
    "df.head()"
   ]
  },
  {
   "cell_type": "code",
   "execution_count": 55,
   "metadata": {
    "execution": {
     "iopub.execute_input": "2023-06-15T17:20:10.178708Z",
     "iopub.status.busy": "2023-06-15T17:20:10.178314Z",
     "iopub.status.idle": "2023-06-15T17:20:10.195462Z",
     "shell.execute_reply": "2023-06-15T17:20:10.194077Z",
     "shell.execute_reply.started": "2023-06-15T17:20:10.178680Z"
    }
   },
   "outputs": [
    {
     "data": {
      "text/html": [
       "<div>\n",
       "<style scoped>\n",
       "    .dataframe tbody tr th:only-of-type {\n",
       "        vertical-align: middle;\n",
       "    }\n",
       "\n",
       "    .dataframe tbody tr th {\n",
       "        vertical-align: top;\n",
       "    }\n",
       "\n",
       "    .dataframe thead th {\n",
       "        text-align: right;\n",
       "    }\n",
       "</style>\n",
       "<table border=\"1\" class=\"dataframe\">\n",
       "  <thead>\n",
       "    <tr style=\"text-align: right;\">\n",
       "      <th></th>\n",
       "      <th>id</th>\n",
       "      <th>title</th>\n",
       "      <th>publication</th>\n",
       "      <th>author</th>\n",
       "      <th>date</th>\n",
       "      <th>year</th>\n",
       "      <th>month</th>\n",
       "      <th>content</th>\n",
       "    </tr>\n",
       "  </thead>\n",
       "  <tbody>\n",
       "    <tr>\n",
       "      <th>0</th>\n",
       "      <td>17283</td>\n",
       "      <td>House Republicans Fret About Winning Their Hea...</td>\n",
       "      <td>New York Times</td>\n",
       "      <td>Carl Hulse</td>\n",
       "      <td>2016-12-31</td>\n",
       "      <td>2016.0</td>\n",
       "      <td>12.0</td>\n",
       "      <td>WASHINGTON  —   Congressional Republicans have...</td>\n",
       "    </tr>\n",
       "    <tr>\n",
       "      <th>1</th>\n",
       "      <td>17284</td>\n",
       "      <td>Rift Between Officers and Residents as Killing...</td>\n",
       "      <td>New York Times</td>\n",
       "      <td>Benjamin Mueller and Al Baker</td>\n",
       "      <td>2017-06-19</td>\n",
       "      <td>2017.0</td>\n",
       "      <td>6.0</td>\n",
       "      <td>After the bullet shells get counted, the blood...</td>\n",
       "    </tr>\n",
       "  </tbody>\n",
       "</table>\n",
       "</div>"
      ],
      "text/plain": [
       "      id                                              title     publication  \\\n",
       "0  17283  House Republicans Fret About Winning Their Hea...  New York Times   \n",
       "1  17284  Rift Between Officers and Residents as Killing...  New York Times   \n",
       "\n",
       "                          author        date    year  month  \\\n",
       "0                     Carl Hulse  2016-12-31  2016.0   12.0   \n",
       "1  Benjamin Mueller and Al Baker  2017-06-19  2017.0    6.0   \n",
       "\n",
       "                                             content  \n",
       "0  WASHINGTON  —   Congressional Republicans have...  \n",
       "1  After the bullet shells get counted, the blood...  "
      ]
     },
     "execution_count": 55,
     "metadata": {},
     "output_type": "execute_result"
    }
   ],
   "source": [
    "df.head(2)"
   ]
  },
  {
   "cell_type": "code",
   "execution_count": 57,
   "metadata": {
    "execution": {
     "iopub.execute_input": "2023-06-15T17:20:16.169144Z",
     "iopub.status.busy": "2023-06-15T17:20:16.168752Z",
     "iopub.status.idle": "2023-06-15T17:20:16.182160Z",
     "shell.execute_reply": "2023-06-15T17:20:16.180779Z",
     "shell.execute_reply.started": "2023-06-15T17:20:16.169115Z"
    }
   },
   "outputs": [
    {
     "data": {
      "text/plain": [
       "5"
      ]
     },
     "execution_count": 57,
     "metadata": {},
     "output_type": "execute_result"
    }
   ],
   "source": [
    "#1. определите количество различных издательств в таблице;\n",
    "df['publication'].nunique()"
   ]
  },
  {
   "cell_type": "code",
   "execution_count": 124,
   "metadata": {
    "execution": {
     "iopub.execute_input": "2023-06-15T18:25:47.689104Z",
     "iopub.status.busy": "2023-06-15T18:25:47.688648Z",
     "iopub.status.idle": "2023-06-15T18:25:47.707968Z",
     "shell.execute_reply": "2023-06-15T18:25:47.706380Z",
     "shell.execute_reply.started": "2023-06-15T18:25:47.689069Z"
    }
   },
   "outputs": [
    {
     "data": {
      "text/plain": [
       "Breitbart           23781\n",
       "New York Times       7767\n",
       "CNN                  7025\n",
       "Business Insider     4950\n",
       "Atlantic              171\n",
       "Name: publication, dtype: int64"
      ]
     },
     "execution_count": 124,
     "metadata": {},
     "output_type": "execute_result"
    }
   ],
   "source": [
    "#1 check\n",
    "df_shares = df['publication'].value_counts()\n",
    "df_shares"
   ]
  },
  {
   "cell_type": "code",
   "execution_count": 59,
   "metadata": {
    "execution": {
     "iopub.execute_input": "2023-06-15T17:20:19.182265Z",
     "iopub.status.busy": "2023-06-15T17:20:19.181813Z",
     "iopub.status.idle": "2023-06-15T17:20:19.214209Z",
     "shell.execute_reply": "2023-06-15T17:20:19.212393Z",
     "shell.execute_reply.started": "2023-06-15T17:20:19.182236Z"
    }
   },
   "outputs": [
    {
     "data": {
      "text/plain": [
       "17159"
      ]
     },
     "execution_count": 59,
     "metadata": {},
     "output_type": "execute_result"
    }
   ],
   "source": [
    "#2. найдите количество опубликованных статей в отрезке [2016-06-01, 2016-12-31];\n",
    "df2 = df[(df['date'] >= \"2016-06-01\") & (df['date']<= \"2016-12-31\")]\n",
    "len(df2)"
   ]
  },
  {
   "cell_type": "code",
   "execution_count": 66,
   "metadata": {
    "execution": {
     "iopub.execute_input": "2023-06-15T17:22:19.003095Z",
     "iopub.status.busy": "2023-06-15T17:22:19.002669Z",
     "iopub.status.idle": "2023-06-15T17:22:19.019066Z",
     "shell.execute_reply": "2023-06-15T17:22:19.017844Z",
     "shell.execute_reply.started": "2023-06-15T17:22:19.003065Z"
    }
   },
   "outputs": [],
   "source": [
    "#3. посчитайте распределение статей автора Tom Ciccotta по годам\n",
    "df2 = df [(df['author'] =='Tom Ciccotta')]"
   ]
  },
  {
   "cell_type": "code",
   "execution_count": 61,
   "metadata": {
    "execution": {
     "iopub.execute_input": "2023-06-15T17:20:24.310912Z",
     "iopub.status.busy": "2023-06-15T17:20:24.310455Z",
     "iopub.status.idle": "2023-06-15T17:20:24.320999Z",
     "shell.execute_reply": "2023-06-15T17:20:24.317125Z",
     "shell.execute_reply.started": "2023-06-15T17:20:24.310873Z"
    }
   },
   "outputs": [],
   "source": [
    "import seaborn as sns\n",
    "import matplotlib.pyplot as plt"
   ]
  },
  {
   "cell_type": "code",
   "execution_count": 77,
   "metadata": {
    "execution": {
     "iopub.execute_input": "2023-06-15T17:27:23.949959Z",
     "iopub.status.busy": "2023-06-15T17:27:23.948947Z",
     "iopub.status.idle": "2023-06-15T17:27:24.348343Z",
     "shell.execute_reply": "2023-06-15T17:27:24.347020Z",
     "shell.execute_reply.started": "2023-06-15T17:27:23.949917Z"
    }
   },
   "outputs": [
    {
     "data": {
      "text/plain": [
       "<Axes: xlabel='year', ylabel='count'>"
      ]
     },
     "execution_count": 77,
     "metadata": {},
     "output_type": "execute_result"
    },
    {
     "data": {
      "image/png": "[encoded data removed]",
      "text/plain": [
       "<Figure size 1500x800 with 1 Axes>"
      ]
     },
     "metadata": {},
     "output_type": "display_data"
    }
   ],
   "source": [
    "sns.countplot(x=df2['year'])"
   ]
  },
  {
   "cell_type": "code",
   "execution_count": 103,
   "metadata": {
    "execution": {
     "iopub.execute_input": "2023-06-15T17:36:34.112508Z",
     "iopub.status.busy": "2023-06-15T17:36:34.112067Z",
     "iopub.status.idle": "2023-06-15T17:36:34.147349Z",
     "shell.execute_reply": "2023-06-15T17:36:34.145636Z",
     "shell.execute_reply.started": "2023-06-15T17:36:34.112477Z"
    }
   },
   "outputs": [
    {
     "data": {
      "text/plain": [
       "124"
      ]
     },
     "execution_count": 103,
     "metadata": {},
     "output_type": "execute_result"
    }
   ],
   "source": [
    "df_Tom = df [(df['author'] =='Tom Ciccotta')&(df2['year'] ==2016 )]\n",
    "len(df_Tom)"
   ]
  },
  {
   "cell_type": "code",
   "execution_count": 104,
   "metadata": {
    "execution": {
     "iopub.execute_input": "2023-06-15T17:36:42.181241Z",
     "iopub.status.busy": "2023-06-15T17:36:42.180771Z",
     "iopub.status.idle": "2023-06-15T17:36:42.216019Z",
     "shell.execute_reply": "2023-06-15T17:36:42.214766Z",
     "shell.execute_reply.started": "2023-06-15T17:36:42.181210Z"
    }
   },
   "outputs": [
    {
     "data": {
      "text/plain": [
       "132"
      ]
     },
     "execution_count": 104,
     "metadata": {},
     "output_type": "execute_result"
    }
   ],
   "source": [
    "df_Tom2 = df [(df['author'] =='Tom Ciccotta')&(df2['year'] == 2017 )]\n",
    "len(df_Tom2)"
   ]
  },
  {
   "cell_type": "code",
   "execution_count": 111,
   "metadata": {
    "execution": {
     "iopub.execute_input": "2023-06-15T17:55:41.212074Z",
     "iopub.status.busy": "2023-06-15T17:55:41.211617Z",
     "iopub.status.idle": "2023-06-15T17:55:41.228566Z",
     "shell.execute_reply": "2023-06-15T17:55:41.227094Z",
     "shell.execute_reply.started": "2023-06-15T17:55:41.212043Z"
    }
   },
   "outputs": [
    {
     "name": "stdout",
     "output_type": "stream",
     "text": [
      "month\n",
      "1.0     5235\n",
      "2.0     4678\n",
      "3.0     5138\n",
      "4.0     5170\n",
      "5.0     4140\n",
      "6.0     4165\n",
      "7.0     2677\n",
      "8.0     2678\n",
      "9.0     2592\n",
      "10.0    2260\n",
      "11.0    2341\n",
      "12.0    2620\n",
      "Name: publication, dtype: int64\n"
     ]
    }
   ],
   "source": [
    "#4. найдите месяц, в котором было наибольшее число статей;\n",
    "df_4 = df.groupby(['month'])['publication'].count()\n",
    "print(df_4)"
   ]
  },
  {
   "cell_type": "code",
   "execution_count": 120,
   "metadata": {
    "execution": {
     "iopub.execute_input": "2023-06-15T18:04:06.048452Z",
     "iopub.status.busy": "2023-06-15T18:04:06.048045Z",
     "iopub.status.idle": "2023-06-15T18:04:06.086117Z",
     "shell.execute_reply": "2023-06-15T18:04:06.084878Z",
     "shell.execute_reply.started": "2023-06-15T18:04:06.048422Z"
    }
   },
   "outputs": [
    {
     "data": {
      "text/html": [
       "<div>\n",
       "<style scoped>\n",
       "    .dataframe tbody tr th:only-of-type {\n",
       "        vertical-align: middle;\n",
       "    }\n",
       "\n",
       "    .dataframe tbody tr th {\n",
       "        vertical-align: top;\n",
       "    }\n",
       "\n",
       "    .dataframe thead th {\n",
       "        text-align: right;\n",
       "    }\n",
       "</style>\n",
       "<table border=\"1\" class=\"dataframe\">\n",
       "  <thead>\n",
       "    <tr style=\"text-align: right;\">\n",
       "      <th></th>\n",
       "      <th>id</th>\n",
       "      <th>title</th>\n",
       "      <th>publication</th>\n",
       "      <th>author</th>\n",
       "      <th>date</th>\n",
       "      <th>year</th>\n",
       "      <th>month</th>\n",
       "      <th>content</th>\n",
       "    </tr>\n",
       "  </thead>\n",
       "  <tbody>\n",
       "    <tr>\n",
       "      <th>16861</th>\n",
       "      <td>35600</td>\n",
       "      <td>Indonesian Couple Beaten with Canes for Violat...</td>\n",
       "      <td>Breitbart</td>\n",
       "      <td>John Hayward</td>\n",
       "      <td>2016-01-01</td>\n",
       "      <td>2016.0</td>\n",
       "      <td>1.0</td>\n",
       "      <td>Islamic sharia law was enforced with canes onc...</td>\n",
       "    </tr>\n",
       "    <tr>\n",
       "      <th>22041</th>\n",
       "      <td>40791</td>\n",
       "      <td>Islamic State Claims Credit For Gun Attack On ...</td>\n",
       "      <td>Breitbart</td>\n",
       "      <td>John Hayward</td>\n",
       "      <td>2016-01-01</td>\n",
       "      <td>2016.0</td>\n",
       "      <td>1.0</td>\n",
       "      <td>The Islamic State has claimed responsibility f...</td>\n",
       "    </tr>\n",
       "    <tr>\n",
       "      <th>27561</th>\n",
       "      <td>46325</td>\n",
       "      <td>Protests Across India Against Saudi Execution ...</td>\n",
       "      <td>Breitbart</td>\n",
       "      <td>John Hayward</td>\n",
       "      <td>2016-01-04</td>\n",
       "      <td>2016.0</td>\n",
       "      <td>1.0</td>\n",
       "      <td>Protests over Saudi Arabia’s execution of Shii...</td>\n",
       "    </tr>\n",
       "    <tr>\n",
       "      <th>27618</th>\n",
       "      <td>46382</td>\n",
       "      <td>Chinese Scientist Plans to Clone a Million Cow...</td>\n",
       "      <td>Breitbart</td>\n",
       "      <td>John Hayward</td>\n",
       "      <td>2016-01-04</td>\n",
       "      <td>2016.0</td>\n",
       "      <td>1.0</td>\n",
       "      <td>A Chinese company called Boyalife Genomics is ...</td>\n",
       "    </tr>\n",
       "    <tr>\n",
       "      <th>27922</th>\n",
       "      <td>46688</td>\n",
       "      <td>Mark Zuckerberg Wants a Robot Butler Like Tony...</td>\n",
       "      <td>Breitbart</td>\n",
       "      <td>John Hayward</td>\n",
       "      <td>2016-01-04</td>\n",
       "      <td>2016.0</td>\n",
       "      <td>1.0</td>\n",
       "      <td>Facebook founder and CEO Mark Zuckerberg’s New...</td>\n",
       "    </tr>\n",
       "    <tr>\n",
       "      <th>...</th>\n",
       "      <td>...</td>\n",
       "      <td>...</td>\n",
       "      <td>...</td>\n",
       "      <td>...</td>\n",
       "      <td>...</td>\n",
       "      <td>...</td>\n",
       "      <td>...</td>\n",
       "      <td>...</td>\n",
       "    </tr>\n",
       "    <tr>\n",
       "      <th>29496</th>\n",
       "      <td>48268</td>\n",
       "      <td>Peter Schweizer: Trump Dissolves Foundation an...</td>\n",
       "      <td>Breitbart</td>\n",
       "      <td>John Hayward</td>\n",
       "      <td>2016-12-27</td>\n",
       "      <td>2016.0</td>\n",
       "      <td>12.0</td>\n",
       "      <td>Breitbart News Senior    Peter Schweizer, pres...</td>\n",
       "    </tr>\n",
       "    <tr>\n",
       "      <th>21399</th>\n",
       "      <td>40149</td>\n",
       "      <td>Report: Islamic State General Flees to Europe ...</td>\n",
       "      <td>Breitbart</td>\n",
       "      <td>John Hayward</td>\n",
       "      <td>2016-12-29</td>\n",
       "      <td>2016.0</td>\n",
       "      <td>12.0</td>\n",
       "      <td>According to an Italian intelligence report qu...</td>\n",
       "    </tr>\n",
       "    <tr>\n",
       "      <th>21734</th>\n",
       "      <td>40484</td>\n",
       "      <td>Putin Announces Ceasefire in Syria U.S. and UN...</td>\n",
       "      <td>Breitbart</td>\n",
       "      <td>John Hayward</td>\n",
       "      <td>2016-12-29</td>\n",
       "      <td>2016.0</td>\n",
       "      <td>12.0</td>\n",
       "      <td>Russian President Vladimir Putin announced on ...</td>\n",
       "    </tr>\n",
       "    <tr>\n",
       "      <th>13467</th>\n",
       "      <td>32204</td>\n",
       "      <td>Seven Ways Obama Is Trying to Sabotage the Tru...</td>\n",
       "      <td>Breitbart</td>\n",
       "      <td>John Hayward</td>\n",
       "      <td>2016-12-30</td>\n",
       "      <td>2016.0</td>\n",
       "      <td>12.0</td>\n",
       "      <td>President Barack Obama’s final weeks in office...</td>\n",
       "    </tr>\n",
       "    <tr>\n",
       "      <th>9843</th>\n",
       "      <td>28579</td>\n",
       "      <td>Steve Bannon: ‘Hobbits and Deplorables Had a G...</td>\n",
       "      <td>Breitbart</td>\n",
       "      <td>John Hayward</td>\n",
       "      <td>2016-12-30</td>\n",
       "      <td>2016.0</td>\n",
       "      <td>12.0</td>\n",
       "      <td>Stephen K. Bannon, former Breitbart News execu...</td>\n",
       "    </tr>\n",
       "  </tbody>\n",
       "</table>\n",
       "<p>521 rows × 8 columns</p>\n",
       "</div>"
      ],
      "text/plain": [
       "          id                                              title publication  \\\n",
       "16861  35600  Indonesian Couple Beaten with Canes for Violat...   Breitbart   \n",
       "22041  40791  Islamic State Claims Credit For Gun Attack On ...   Breitbart   \n",
       "27561  46325  Protests Across India Against Saudi Execution ...   Breitbart   \n",
       "27618  46382  Chinese Scientist Plans to Clone a Million Cow...   Breitbart   \n",
       "27922  46688  Mark Zuckerberg Wants a Robot Butler Like Tony...   Breitbart   \n",
       "...      ...                                                ...         ...   \n",
       "29496  48268  Peter Schweizer: Trump Dissolves Foundation an...   Breitbart   \n",
       "21399  40149  Report: Islamic State General Flees to Europe ...   Breitbart   \n",
       "21734  40484  Putin Announces Ceasefire in Syria U.S. and UN...   Breitbart   \n",
       "13467  32204  Seven Ways Obama Is Trying to Sabotage the Tru...   Breitbart   \n",
       "9843   28579  Steve Bannon: ‘Hobbits and Deplorables Had a G...   Breitbart   \n",
       "\n",
       "             author        date    year  month  \\\n",
       "16861  John Hayward  2016-01-01  2016.0    1.0   \n",
       "22041  John Hayward  2016-01-01  2016.0    1.0   \n",
       "27561  John Hayward  2016-01-04  2016.0    1.0   \n",
       "27618  John Hayward  2016-01-04  2016.0    1.0   \n",
       "27922  John Hayward  2016-01-04  2016.0    1.0   \n",
       "...             ...         ...     ...    ...   \n",
       "29496  John Hayward  2016-12-27  2016.0   12.0   \n",
       "21399  John Hayward  2016-12-29  2016.0   12.0   \n",
       "21734  John Hayward  2016-12-29  2016.0   12.0   \n",
       "13467  John Hayward  2016-12-30  2016.0   12.0   \n",
       "9843   John Hayward  2016-12-30  2016.0   12.0   \n",
       "\n",
       "                                                 content  \n",
       "16861  Islamic sharia law was enforced with canes onc...  \n",
       "22041  The Islamic State has claimed responsibility f...  \n",
       "27561  Protests over Saudi Arabia’s execution of Shii...  \n",
       "27618  A Chinese company called Boyalife Genomics is ...  \n",
       "27922  Facebook founder and CEO Mark Zuckerberg’s New...  \n",
       "...                                                  ...  \n",
       "29496  Breitbart News Senior    Peter Schweizer, pres...  \n",
       "21399  According to an Italian intelligence report qu...  \n",
       "21734  Russian President Vladimir Putin announced on ...  \n",
       "13467  President Barack Obama’s final weeks in office...  \n",
       "9843   Stephen K. Bannon, former Breitbart News execu...  \n",
       "\n",
       "[521 rows x 8 columns]"
      ]
     },
     "execution_count": 120,
     "metadata": {},
     "output_type": "execute_result"
    }
   ],
   "source": [
    "#5. выпишите 3 первые статьи автора John Hayward в 2016 году.\n",
    "df_5 = df[(df['author'] == \"John Hayward\") & (df['year'] == 2016)]\n",
    "df_5 = df_5.sort_values(['date'], ascending=[True])\n",
    "df_5"
   ]
  },
  {
   "cell_type": "code",
   "execution_count": 132,
   "metadata": {
    "execution": {
     "iopub.execute_input": "2023-06-15T18:31:43.673041Z",
     "iopub.status.busy": "2023-06-15T18:31:43.672596Z",
     "iopub.status.idle": "2023-06-15T18:31:43.928511Z",
     "shell.execute_reply": "2023-06-15T18:31:43.926888Z",
     "shell.execute_reply.started": "2023-06-15T18:31:43.673009Z"
    }
   },
   "outputs": [
    {
     "data": {
      "text/plain": [
       "Text(0.5, 1.0, 'Cоотношение различных издательств')"
      ]
     },
     "execution_count": 132,
     "metadata": {},
     "output_type": "execute_result"
    },
    {
     "data": {
      "image/png": "[encoded data removed]",
      "text/plain": [
       "<Figure size 1100x600 with 1 Axes>"
      ]
     },
     "metadata": {},
     "output_type": "display_data"
    }
   ],
   "source": [
    "#Задача 2. Bизуализируйте соотношение различных издательств, используя pie plot.\n",
    "plot = df_shares.plot.pie(subplots=True, figsize=(11, 6))\n",
    "plt.title(\"Cоотношение различных издательств\")"
   ]
  },
  {
   "cell_type": "code",
   "execution_count": 1,
   "metadata": {},
   "outputs": [
    {
     "name": "stdout",
     "output_type": "stream",
     "text": [
      "5\n"
     ]
    }
   ],
   "source": [
    "def task_1(n):\n",
    "    a = 0\n",
    "    b = 1\n",
    "    for __ in range(n):\n",
    "        a, b = b, a + b\n",
    "    return a\n",
    "print(task_1(5))"
   ]
  },
  {
   "cell_type": "code",
   "execution_count": null,
   "metadata": {},
   "outputs": [],
   "source": []
  }
 ],
 "metadata": {
  "kernelspec": {
   "display_name": "Python 3",
   "language": "python",
   "name": "python3"
  },
  "language_info": {
   "codemirror_mode": {
    "name": "ipython",
    "version": 3
   },
   "file_extension": ".py",
   "mimetype": "text/x-python",
   "name": "python",
   "nbconvert_exporter": "python",
   "pygments_lexer": "ipython3",
   "version": "3.7.6"
  }
 },
 "nbformat": 4,
 "nbformat_minor": 4
}
