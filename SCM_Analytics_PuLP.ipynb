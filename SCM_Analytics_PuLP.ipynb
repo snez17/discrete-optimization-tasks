{
  "cells": [
    {
      "cell_type": "markdown",
      "metadata": {
        "id": "view-in-github",
        "colab_type": "text"
      },
      "source": [
        "<a href=\"https://colab.research.google.com/github/snez17/studyworks/blob/main/SCM_Analytics_PuLP.ipynb\" target=\"_parent\"><img src=\"https://colab.research.google.com/assets/colab-badge.svg\" alt=\"Open In Colab\"/></a>"
      ]
    },
    {
      "cell_type": "code",
      "execution_count": null,
      "metadata": {
        "colab": {
          "base_uri": "https://localhost:8080/"
        },
        "id": "p8Af5kNw7KwJ",
        "outputId": "9bad6f09-2e5b-4a64-cb4d-17394fdce624"
      },
      "outputs": [
        {
          "name": "stdout",
          "output_type": "stream",
          "text": [
            "Requirement already satisfied: pulp in /usr/local/lib/python3.10/dist-packages (2.7.0)\n"
          ]
        }
      ],
      "source": [
        "pip install pulp"
      ]
    },
    {
      "cell_type": "code",
      "execution_count": null,
      "metadata": {
        "id": "uX9RuEyMMRoO"
      },
      "outputs": [],
      "source": [
        "from pulp import *"
      ]
    },
    {
      "cell_type": "markdown",
      "metadata": {
        "id": "g5OSfIfguSor"
      },
      "source": [
        "**Maximize Bakery Profits**"
      ]
    },
    {
      "cell_type": "markdown",
      "metadata": {
        "id": "LYY2FwLvzINi"
      },
      "source": [
        "1 вариант решения"
      ]
    },
    {
      "cell_type": "code",
      "execution_count": null,
      "metadata": {
        "id": "FgSL_ILu7mhQ"
      },
      "outputs": [],
      "source": [
        "#Initialize Class\n",
        "model1 = LpProblem(name=\"Maximize_Bakery_Profits\", sense=LpMaximize)"
      ]
    },
    {
      "cell_type": "code",
      "execution_count": null,
      "metadata": {
        "id": "9MRrtiUS8JiQ"
      },
      "outputs": [],
      "source": [
        "#Define Decision Variables\n",
        "A = LpVariable('A', lowBound=0, cat='Integer')   #cakes\n",
        "B = LpVariable('B', lowBound=0, cat='Integer')   #puncakes"
      ]
    },
    {
      "cell_type": "code",
      "execution_count": null,
      "metadata": {
        "id": "CAgyO9K08ZUX"
      },
      "outputs": [],
      "source": [
        "#Define Objective Function\n",
        "model1 += 20*A + 40*B   #profit for cakes and puncakes, prices per unit: 20 and 40"
      ]
    },
    {
      "cell_type": "code",
      "execution_count": null,
      "metadata": {
        "id": "94t21cqy8rWj"
      },
      "outputs": [],
      "source": [
        "#Define Constraints\n",
        "model1 += 0.5*A + 1*B <=30   #oven works only 30 days; 0.5 day per unit A and 1 day per unit B\n",
        "model1 += 1*A + 2.5*B <=60   #two bakers work only 30 days; 1 day per unit A and 2.5 day per unit B\n",
        "model1 += 1*A + 2*B <=22     #one packers work only 22 days; 1 day per unit A and 2 day per unit B"
      ]
    },
    {
      "cell_type": "code",
      "execution_count": null,
      "metadata": {
        "colab": {
          "base_uri": "https://localhost:8080/"
        },
        "id": "El6Z-OII861U",
        "outputId": "b7d62f85-9914-4603-e70a-f7725747c51e"
      },
      "outputs": [
        {
          "name": "stdout",
          "output_type": "stream",
          "text": [
            "Produce 0.0 Cake A\n",
            "Produce 11.0 Cake B\n"
          ]
        }
      ],
      "source": [
        "#Solve model\n",
        "model1.solve()\n",
        "print('Produce {} Cake A'.format(A.varValue))\n",
        "print('Produce {} Cake B'.format(B.varValue))"
      ]
    },
    {
      "cell_type": "markdown",
      "metadata": {
        "id": "V3E8TNMrzPXi"
      },
      "source": [
        "2 вариант решения - создаем словарь с decision variables"
      ]
    },
    {
      "cell_type": "code",
      "execution_count": null,
      "metadata": {
        "colab": {
          "base_uri": "https://localhost:8080/"
        },
        "id": "sbTsxhVCsteJ",
        "outputId": "0f3726ed-7c4d-4469-cefe-c94ec629eca1"
      },
      "outputs": [
        {
          "name": "stdout",
          "output_type": "stream",
          "text": [
            "Collecting pulp\n",
            "  Downloading PuLP-2.7.0-py3-none-any.whl (14.3 MB)\n",
            "\u001b[2K     \u001b[90m━━━━━━━━━━━━━━━━━━━━━━━━━━━━━━━━━━━━━━━━\u001b[0m \u001b[32m14.3/14.3 MB\u001b[0m \u001b[31m29.5 MB/s\u001b[0m eta \u001b[36m0:00:00\u001b[0m\n",
            "\u001b[?25hInstalling collected packages: pulp\n",
            "Successfully installed pulp-2.7.0\n"
          ]
        }
      ],
      "source": [
        "pip install pulp"
      ]
    },
    {
      "cell_type": "code",
      "execution_count": null,
      "metadata": {
        "id": "-AvoxCuFsw8u"
      },
      "outputs": [],
      "source": [
        "from pulp import *"
      ]
    },
    {
      "cell_type": "code",
      "execution_count": null,
      "metadata": {
        "id": "SlmIM9TQzTJ5"
      },
      "outputs": [],
      "source": [
        "#Initialize Class\n",
        "model = LpProblem(name=\"Maximize_Bakery_Profits\", sense=LpMaximize)"
      ]
    },
    {
      "cell_type": "code",
      "execution_count": null,
      "metadata": {
        "id": "Zboq-ojYsf3Q"
      },
      "outputs": [],
      "source": [
        "#Define decision variable\n",
        "A = LpVariable('A', lowBound=0, cat='Integer')\n",
        "B = LpVariable('B', lowBound=0, cat='Integer')"
      ]
    },
    {
      "cell_type": "code",
      "execution_count": null,
      "metadata": {
        "id": "SZ2hPv_CsqcK"
      },
      "outputs": [],
      "source": [
        "var_dict={'A':A,'B':B}"
      ]
    },
    {
      "cell_type": "code",
      "execution_count": null,
      "metadata": {
        "id": "miDoO1z0zdI0"
      },
      "outputs": [],
      "source": [
        "profit_by_cake={\n",
        "    'A':20,\n",
        "    'B':40\n",
        "    }"
      ]
    },
    {
      "cell_type": "code",
      "execution_count": null,
      "metadata": {
        "id": "4Vf5_QyHtP1o"
      },
      "outputs": [],
      "source": [
        "cake_types = ['A','B']"
      ]
    },
    {
      "cell_type": "code",
      "execution_count": null,
      "metadata": {
        "id": "LXaIctYSzZP3"
      },
      "outputs": [],
      "source": [
        "#Define Objective Function\n",
        "model += lpSum([profit_by_cake[i]*var_dict[i] for i in cake_types])"
      ]
    },
    {
      "cell_type": "code",
      "execution_count": null,
      "metadata": {
        "id": "cu2jiRGszkJI"
      },
      "outputs": [],
      "source": [
        "#Define Constraints\n",
        "model += 0.5*A + 1*B <=30   #oven works only 30 days\n",
        "model += 1*A + 2.5*B <=60   #two bakers work only 30 days\n",
        "model += 1*A + 2*B <=22     #one packers work only 22 days"
      ]
    },
    {
      "cell_type": "code",
      "execution_count": null,
      "metadata": {
        "colab": {
          "base_uri": "https://localhost:8080/"
        },
        "id": "dFTlTcAQtbTH",
        "outputId": "8d217a95-3aee-497d-fb24-8842a7b1d15b"
      },
      "outputs": [
        {
          "name": "stdout",
          "output_type": "stream",
          "text": [
            "Produce 0.0 Cake A\n",
            "Produce 11.0 Cake B\n"
          ]
        }
      ],
      "source": [
        "#Solve model\n",
        "model.solve()\n",
        "print('Produce {} Cake A'.format(A.varValue))\n",
        "print('Produce {} Cake B'.format(B.varValue))"
      ]
    },
    {
      "cell_type": "markdown",
      "metadata": {
        "id": "tJdLv-Gwt65N"
      },
      "source": [
        "3 вариант решения - создаем датасет с constraints"
      ]
    },
    {
      "cell_type": "code",
      "execution_count": null,
      "metadata": {
        "id": "OsQ71LaYw6H-"
      },
      "outputs": [],
      "source": [
        "#Initialize Class\n",
        "model = LpProblem(name=\"Maximize_Bakery_Profits\", sense=LpMaximize)"
      ]
    },
    {
      "cell_type": "code",
      "execution_count": null,
      "metadata": {
        "id": "JKEiXjJrw8UJ"
      },
      "outputs": [],
      "source": [
        "#Define decision variable\n",
        "A = LpVariable('A', lowBound=0, cat='Integer')\n",
        "B = LpVariable('B', lowBound=0, cat='Integer')"
      ]
    },
    {
      "cell_type": "code",
      "execution_count": null,
      "metadata": {
        "id": "DTwbD6mWw1GG"
      },
      "outputs": [],
      "source": [
        "#Define Objective Function\n",
        "model += 20*A + 40*B   #profit for cakes and puncakes, prices per unit: 20 and 40"
      ]
    },
    {
      "cell_type": "code",
      "execution_count": null,
      "metadata": {
        "id": "EjckMOIUyMjn"
      },
      "outputs": [],
      "source": [
        "cake_types = ['A','B']"
      ]
    },
    {
      "cell_type": "code",
      "execution_count": null,
      "metadata": {
        "id": "yQ-D5pwouqVV"
      },
      "outputs": [],
      "source": [
        "import pandas as pd"
      ]
    },
    {
      "cell_type": "code",
      "execution_count": null,
      "metadata": {
        "colab": {
          "base_uri": "https://localhost:8080/"
        },
        "id": "qzqb9xORzR4j",
        "outputId": "3a02c9c0-d658-4795-9161-1502cd8c08a8"
      },
      "outputs": [
        {
          "data": {
            "text/plain": [
              "{'A': A, 'B': B}"
            ]
          },
          "execution_count": 75,
          "metadata": {},
          "output_type": "execute_result"
        }
      ],
      "source": [
        "var_dict={'A':A,'B':B}\n",
        "var_dict"
      ]
    },
    {
      "cell_type": "code",
      "execution_count": null,
      "metadata": {
        "id": "cjAQL_mAxMs7"
      },
      "outputs": [],
      "source": [
        "oven = {'A':0.5,'B':1}\n",
        "baker = {'A':1,'B':2.5}\n",
        "packer= {'A':1,'B':2}"
      ]
    },
    {
      "cell_type": "code",
      "execution_count": null,
      "metadata": {
        "id": "SnKlUIWjxFqP"
      },
      "outputs": [],
      "source": [
        "# Define Constraint\n",
        "model += (lpSum([oven[i] * var_dict[i] for i in cake_types]) <= 30)\n",
        "model += (lpSum([baker[i] * var_dict[i] for i in cake_types]) <= 60)\n",
        "model += (lpSum([packer[i] * var_dict[i] for i in cake_types]) <= 22)"
      ]
    },
    {
      "cell_type": "code",
      "execution_count": null,
      "metadata": {
        "colab": {
          "base_uri": "https://localhost:8080/"
        },
        "id": "K4ES21Mdz5V-",
        "outputId": "559e70e9-bb78-49b2-defd-7ff200b79d7b"
      },
      "outputs": [
        {
          "name": "stdout",
          "output_type": "stream",
          "text": [
            "A status 0.0\n",
            "B status 11.0\n"
          ]
        }
      ],
      "source": [
        "# Solve Model\n",
        "model.solve()\n",
        "for i in cake_types: print(\"{} status {}\".format(i, var_dict[i].varValue))"
      ]
    },
    {
      "cell_type": "markdown",
      "metadata": {
        "id": "jVlkamcDuDQN"
      },
      "source": [
        "4 вариант решения - импортируем csv файл с constraints"
      ]
    },
    {
      "cell_type": "code",
      "execution_count": null,
      "metadata": {
        "id": "hkS_5IPn3oh7"
      },
      "outputs": [],
      "source": [
        "#Initialize Class\n",
        "model = LpProblem(name=\"Maximize_Bakery_Profits\", sense=LpMaximize)"
      ]
    },
    {
      "cell_type": "code",
      "execution_count": null,
      "metadata": {
        "id": "bihHrCQc4AqT"
      },
      "outputs": [],
      "source": [
        "cake_types = ['A','B']"
      ]
    },
    {
      "cell_type": "code",
      "execution_count": null,
      "metadata": {
        "id": "vhPOuMVn3sQx"
      },
      "outputs": [],
      "source": [
        "#Define decision variable\n",
        "A = LpVariable('A', lowBound=0, cat='Integer')\n",
        "B = LpVariable('B', lowBound=0, cat='Integer')"
      ]
    },
    {
      "cell_type": "code",
      "execution_count": null,
      "metadata": {
        "id": "4lSk_AC83vkt"
      },
      "outputs": [],
      "source": [
        "var_dict={'A':A,'B':B}"
      ]
    },
    {
      "cell_type": "code",
      "execution_count": null,
      "metadata": {
        "id": "70poBOuX34WY"
      },
      "outputs": [],
      "source": [
        "profit_by_cake={\n",
        "    'A':20,\n",
        "    'B':40\n",
        "    }"
      ]
    },
    {
      "cell_type": "code",
      "execution_count": null,
      "metadata": {
        "id": "aQNiiN_-36_0"
      },
      "outputs": [],
      "source": [
        "#Define Objective Function\n",
        "model += lpSum([profit_by_cake[i]*var_dict[i] for i in cake_types])"
      ]
    },
    {
      "cell_type": "code",
      "execution_count": null,
      "metadata": {
        "id": "B0C7nFq_0kwf"
      },
      "outputs": [],
      "source": [
        "import pandas as pd"
      ]
    },
    {
      "cell_type": "code",
      "execution_count": null,
      "metadata": {
        "colab": {
          "base_uri": "https://localhost:8080/"
        },
        "id": "lbm-CLjD_6pd",
        "outputId": "c7aead14-b026-4a26-ecca-3e7a0aa86300"
      },
      "outputs": [
        {
          "name": "stdout",
          "output_type": "stream",
          "text": [
            "Drive already mounted at /content/gdrive; to attempt to forcibly remount, call drive.mount(\"/content/gdrive\", force_remount=True).\n"
          ]
        }
      ],
      "source": [
        "from google.colab import drive\n",
        "drive.mount('/content/gdrive')"
      ]
    },
    {
      "cell_type": "code",
      "execution_count": null,
      "metadata": {
        "colab": {
          "base_uri": "https://localhost:8080/"
        },
        "id": "8JkEQQGZAAqU",
        "outputId": "e69c137c-51bd-4f00-a9a1-c1ea1e9a1b0f"
      },
      "outputs": [
        {
          "name": "stdout",
          "output_type": "stream",
          "text": [
            "/content/gdrive/My Drive/LP plant data\n"
          ]
        }
      ],
      "source": [
        "%cd /content/gdrive/My Drive/LP plant data"
      ]
    },
    {
      "cell_type": "code",
      "execution_count": null,
      "metadata": {
        "colab": {
          "base_uri": "https://localhost:8080/",
          "height": 112
        },
        "id": "VeAhtML4ACKK",
        "outputId": "7de7c522-1ed2-4cc9-e7d6-5a45298a60b5"
      },
      "outputs": [
        {
          "data": {
            "text/html": [
              "\n",
              "  <div id=\"df-48f4ab33-cf87-4c3e-ba86-8b216dc3449a\" class=\"colab-df-container\">\n",
              "    <div>\n",
              "<style scoped>\n",
              "    .dataframe tbody tr th:only-of-type {\n",
              "        vertical-align: middle;\n",
              "    }\n",
              "\n",
              "    .dataframe tbody tr th {\n",
              "        vertical-align: top;\n",
              "    }\n",
              "\n",
              "    .dataframe thead th {\n",
              "        text-align: right;\n",
              "    }\n",
              "</style>\n",
              "<table border=\"1\" class=\"dataframe\">\n",
              "  <thead>\n",
              "    <tr style=\"text-align: right;\">\n",
              "      <th></th>\n",
              "      <th>oven</th>\n",
              "      <th>baker</th>\n",
              "      <th>packer</th>\n",
              "    </tr>\n",
              "  </thead>\n",
              "  <tbody>\n",
              "    <tr>\n",
              "      <th>A</th>\n",
              "      <td>0.5</td>\n",
              "      <td>1.0</td>\n",
              "      <td>1</td>\n",
              "    </tr>\n",
              "    <tr>\n",
              "      <th>B</th>\n",
              "      <td>1.0</td>\n",
              "      <td>2.5</td>\n",
              "      <td>2</td>\n",
              "    </tr>\n",
              "  </tbody>\n",
              "</table>\n",
              "</div>\n",
              "    <div class=\"colab-df-buttons\">\n",
              "\n",
              "  <div class=\"colab-df-container\">\n",
              "    <button class=\"colab-df-convert\" onclick=\"convertToInteractive('df-48f4ab33-cf87-4c3e-ba86-8b216dc3449a')\"\n",
              "            title=\"Convert this dataframe to an interactive table.\"\n",
              "            style=\"display:none;\">\n",
              "\n",
              "  <svg xmlns=\"http://www.w3.org/2000/svg\" height=\"24px\" viewBox=\"0 -960 960 960\">\n",
              "    <path d=\"M120-120v-720h720v720H120Zm60-500h600v-160H180v160Zm220 220h160v-160H400v160Zm0 220h160v-160H400v160ZM180-400h160v-160H180v160Zm440 0h160v-160H620v160ZM180-180h160v-160H180v160Zm440 0h160v-160H620v160Z\"/>\n",
              "  </svg>\n",
              "    </button>\n",
              "\n",
              "  <style>\n",
              "    .colab-df-container {\n",
              "      display:flex;\n",
              "      gap: 12px;\n",
              "    }\n",
              "\n",
              "    .colab-df-convert {\n",
              "      background-color: #E8F0FE;\n",
              "      border: none;\n",
              "      border-radius: 50%;\n",
              "      cursor: pointer;\n",
              "      display: none;\n",
              "      fill: #1967D2;\n",
              "      height: 32px;\n",
              "      padding: 0 0 0 0;\n",
              "      width: 32px;\n",
              "    }\n",
              "\n",
              "    .colab-df-convert:hover {\n",
              "      background-color: #E2EBFA;\n",
              "      box-shadow: 0px 1px 2px rgba(60, 64, 67, 0.3), 0px 1px 3px 1px rgba(60, 64, 67, 0.15);\n",
              "      fill: #174EA6;\n",
              "    }\n",
              "\n",
              "    .colab-df-buttons div {\n",
              "      margin-bottom: 4px;\n",
              "    }\n",
              "\n",
              "    [theme=dark] .colab-df-convert {\n",
              "      background-color: #3B4455;\n",
              "      fill: #D2E3FC;\n",
              "    }\n",
              "\n",
              "    [theme=dark] .colab-df-convert:hover {\n",
              "      background-color: #434B5C;\n",
              "      box-shadow: 0px 1px 3px 1px rgba(0, 0, 0, 0.15);\n",
              "      filter: drop-shadow(0px 1px 2px rgba(0, 0, 0, 0.3));\n",
              "      fill: #FFFFFF;\n",
              "    }\n",
              "  </style>\n",
              "\n",
              "    <script>\n",
              "      const buttonEl =\n",
              "        document.querySelector('#df-48f4ab33-cf87-4c3e-ba86-8b216dc3449a button.colab-df-convert');\n",
              "      buttonEl.style.display =\n",
              "        google.colab.kernel.accessAllowed ? 'block' : 'none';\n",
              "\n",
              "      async function convertToInteractive(key) {\n",
              "        const element = document.querySelector('#df-48f4ab33-cf87-4c3e-ba86-8b216dc3449a');\n",
              "        const dataTable =\n",
              "          await google.colab.kernel.invokeFunction('convertToInteractive',\n",
              "                                                    [key], {});\n",
              "        if (!dataTable) return;\n",
              "\n",
              "        const docLinkHtml = 'Like what you see? Visit the ' +\n",
              "          '<a target=\"_blank\" href=https://colab.research.google.com/notebooks/data_table.ipynb>data table notebook</a>'\n",
              "          + ' to learn more about interactive tables.';\n",
              "        element.innerHTML = '';\n",
              "        dataTable['output_type'] = 'display_data';\n",
              "        await google.colab.output.renderOutput(dataTable, element);\n",
              "        const docLink = document.createElement('div');\n",
              "        docLink.innerHTML = docLinkHtml;\n",
              "        element.appendChild(docLink);\n",
              "      }\n",
              "    </script>\n",
              "  </div>\n",
              "\n",
              "\n",
              "<div id=\"df-1e4dcb3e-887a-49d7-9dcb-6316dc7559f3\">\n",
              "  <button class=\"colab-df-quickchart\" onclick=\"quickchart('df-1e4dcb3e-887a-49d7-9dcb-6316dc7559f3')\"\n",
              "            title=\"Suggest charts.\"\n",
              "            style=\"display:none;\">\n",
              "\n",
              "<svg xmlns=\"http://www.w3.org/2000/svg\" height=\"24px\"viewBox=\"0 0 24 24\"\n",
              "     width=\"24px\">\n",
              "    <g>\n",
              "        <path d=\"M19 3H5c-1.1 0-2 .9-2 2v14c0 1.1.9 2 2 2h14c1.1 0 2-.9 2-2V5c0-1.1-.9-2-2-2zM9 17H7v-7h2v7zm4 0h-2V7h2v10zm4 0h-2v-4h2v4z\"/>\n",
              "    </g>\n",
              "</svg>\n",
              "  </button>\n",
              "\n",
              "<style>\n",
              "  .colab-df-quickchart {\n",
              "      --bg-color: #E8F0FE;\n",
              "      --fill-color: #1967D2;\n",
              "      --hover-bg-color: #E2EBFA;\n",
              "      --hover-fill-color: #174EA6;\n",
              "      --disabled-fill-color: #AAA;\n",
              "      --disabled-bg-color: #DDD;\n",
              "  }\n",
              "\n",
              "  [theme=dark] .colab-df-quickchart {\n",
              "      --bg-color: #3B4455;\n",
              "      --fill-color: #D2E3FC;\n",
              "      --hover-bg-color: #434B5C;\n",
              "      --hover-fill-color: #FFFFFF;\n",
              "      --disabled-bg-color: #3B4455;\n",
              "      --disabled-fill-color: #666;\n",
              "  }\n",
              "\n",
              "  .colab-df-quickchart {\n",
              "    background-color: var(--bg-color);\n",
              "    border: none;\n",
              "    border-radius: 50%;\n",
              "    cursor: pointer;\n",
              "    display: none;\n",
              "    fill: var(--fill-color);\n",
              "    height: 32px;\n",
              "    padding: 0;\n",
              "    width: 32px;\n",
              "  }\n",
              "\n",
              "  .colab-df-quickchart:hover {\n",
              "    background-color: var(--hover-bg-color);\n",
              "    box-shadow: 0 1px 2px rgba(60, 64, 67, 0.3), 0 1px 3px 1px rgba(60, 64, 67, 0.15);\n",
              "    fill: var(--button-hover-fill-color);\n",
              "  }\n",
              "\n",
              "  .colab-df-quickchart-complete:disabled,\n",
              "  .colab-df-quickchart-complete:disabled:hover {\n",
              "    background-color: var(--disabled-bg-color);\n",
              "    fill: var(--disabled-fill-color);\n",
              "    box-shadow: none;\n",
              "  }\n",
              "\n",
              "  .colab-df-spinner {\n",
              "    border: 2px solid var(--fill-color);\n",
              "    border-color: transparent;\n",
              "    border-bottom-color: var(--fill-color);\n",
              "    animation:\n",
              "      spin 1s steps(1) infinite;\n",
              "  }\n",
              "\n",
              "  @keyframes spin {\n",
              "    0% {\n",
              "      border-color: transparent;\n",
              "      border-bottom-color: var(--fill-color);\n",
              "      border-left-color: var(--fill-color);\n",
              "    }\n",
              "    20% {\n",
              "      border-color: transparent;\n",
              "      border-left-color: var(--fill-color);\n",
              "      border-top-color: var(--fill-color);\n",
              "    }\n",
              "    30% {\n",
              "      border-color: transparent;\n",
              "      border-left-color: var(--fill-color);\n",
              "      border-top-color: var(--fill-color);\n",
              "      border-right-color: var(--fill-color);\n",
              "    }\n",
              "    40% {\n",
              "      border-color: transparent;\n",
              "      border-right-color: var(--fill-color);\n",
              "      border-top-color: var(--fill-color);\n",
              "    }\n",
              "    60% {\n",
              "      border-color: transparent;\n",
              "      border-right-color: var(--fill-color);\n",
              "    }\n",
              "    80% {\n",
              "      border-color: transparent;\n",
              "      border-right-color: var(--fill-color);\n",
              "      border-bottom-color: var(--fill-color);\n",
              "    }\n",
              "    90% {\n",
              "      border-color: transparent;\n",
              "      border-bottom-color: var(--fill-color);\n",
              "    }\n",
              "  }\n",
              "</style>\n",
              "\n",
              "  <script>\n",
              "    async function quickchart(key) {\n",
              "      const quickchartButtonEl =\n",
              "        document.querySelector('#' + key + ' button');\n",
              "      quickchartButtonEl.disabled = true;  // To prevent multiple clicks.\n",
              "      quickchartButtonEl.classList.add('colab-df-spinner');\n",
              "      try {\n",
              "        const charts = await google.colab.kernel.invokeFunction(\n",
              "            'suggestCharts', [key], {});\n",
              "      } catch (error) {\n",
              "        console.error('Error during call to suggestCharts:', error);\n",
              "      }\n",
              "      quickchartButtonEl.classList.remove('colab-df-spinner');\n",
              "      quickchartButtonEl.classList.add('colab-df-quickchart-complete');\n",
              "    }\n",
              "    (() => {\n",
              "      let quickchartButtonEl =\n",
              "        document.querySelector('#df-1e4dcb3e-887a-49d7-9dcb-6316dc7559f3 button');\n",
              "      quickchartButtonEl.style.display =\n",
              "        google.colab.kernel.accessAllowed ? 'block' : 'none';\n",
              "    })();\n",
              "  </script>\n",
              "</div>\n",
              "    </div>\n",
              "  </div>\n"
            ],
            "text/plain": [
              "   oven  baker  packer\n",
              "A   0.5    1.0       1\n",
              "B   1.0    2.5       2"
            ]
          },
          "execution_count": 271,
          "metadata": {},
          "output_type": "execute_result"
        }
      ],
      "source": [
        "df=pd.read_csv('LP example.csv',delimiter=';',index_col=0)\n",
        "df"
      ]
    },
    {
      "cell_type": "code",
      "execution_count": null,
      "metadata": {
        "id": "r5gDE5ID4Ymm"
      },
      "outputs": [],
      "source": [
        "costs = ['oven','baker','packer']"
      ]
    },
    {
      "cell_type": "code",
      "execution_count": null,
      "metadata": {
        "colab": {
          "base_uri": "https://localhost:8080/"
        },
        "id": "LY5CDftF4hwX",
        "outputId": "e1f81551-6079-466b-9940-f6aa5b9d79fb"
      },
      "outputs": [
        {
          "data": {
            "text/plain": [
              "{('A', 'oven'): costs_('A',_'oven'),\n",
              " ('A', 'baker'): costs_('A',_'baker'),\n",
              " ('A', 'packer'): costs_('A',_'packer'),\n",
              " ('B', 'oven'): costs_('B',_'oven'),\n",
              " ('B', 'baker'): costs_('B',_'baker'),\n",
              " ('B', 'packer'): costs_('B',_'packer')}"
            ]
          },
          "execution_count": 273,
          "metadata": {},
          "output_type": "execute_result"
        }
      ],
      "source": [
        "x = LpVariable.dicts(\"costs\", [(i, c) for i in cake_types for c in costs], lowBound=0, cat='Continious')\n",
        "x"
      ]
    },
    {
      "cell_type": "code",
      "execution_count": null,
      "metadata": {
        "id": "W_ba-eQq1YO9"
      },
      "outputs": [],
      "source": [
        "limits = {'oven':30, 'baker':60, 'packer':22}"
      ]
    },
    {
      "cell_type": "code",
      "execution_count": null,
      "metadata": {
        "id": "8MEbfUrQTumJ"
      },
      "outputs": [],
      "source": [
        "#Define Constraints\n",
        "model += 0.5*A + 1*B <=30   #oven works only 30 days; 0.5 day per unit A and 1 day per unit B\n",
        "model += 1*A + 2.5*B <=60   #two bakers work only 30 days; 1 day per unit A and 2.5 day per unit B\n",
        "model += 1*A + 2*B <=22     #one packers work only 22 days; 1 day per unit A and 2 day per unit B"
      ]
    },
    {
      "cell_type": "code",
      "execution_count": null,
      "metadata": {
        "colab": {
          "base_uri": "https://localhost:8080/"
        },
        "id": "Jk09Ybq9znm6",
        "outputId": "e0c70f48-d88b-4dce-d040-f4252e6c8da1"
      },
      "outputs": [
        {
          "name": "stdout",
          "output_type": "stream",
          "text": [
            "Produce 0.0 Cake A\n",
            "Produce 11.0 Cake B\n"
          ]
        }
      ],
      "source": [
        "#Solve model\n",
        "model.solve()\n",
        "print('Produce {} Cake A'.format(A.varValue))\n",
        "print('Produce {} Cake B'.format(B.varValue))"
      ]
    },
    {
      "cell_type": "markdown",
      "metadata": {
        "id": "21nvAkgduOSi"
      },
      "source": [
        "**Loading Truck Problem**"
      ]
    },
    {
      "cell_type": "code",
      "execution_count": null,
      "metadata": {
        "id": "cmY2i_tUJsog"
      },
      "outputs": [],
      "source": [
        "prod = ['A','B','C','D','E','F']\n",
        "weight = {'A':12800, 'B':10900,'C':11400,'D':2100,'E':11300,'F':2300}\n",
        "prof = {'A':77878,'B':82713,'C':82728,'D':68423,'E':84119,'F':77765}"
      ]
    },
    {
      "cell_type": "code",
      "execution_count": null,
      "metadata": {
        "colab": {
          "base_uri": "https://localhost:8080/"
        },
        "id": "aGCwa2vFJ84r",
        "outputId": "d973e708-eab7-4543-af90-92326dd891ad"
      },
      "outputs": [
        {
          "name": "stderr",
          "output_type": "stream",
          "text": [
            "/usr/local/lib/python3.10/dist-packages/pulp/pulp.py:1352: UserWarning: Spaces are not permitted in the name. Converted to '_'\n",
            "  warnings.warn(\"Spaces are not permitted in the name. Converted to '_'\")\n"
          ]
        }
      ],
      "source": [
        "# Initialize Class\n",
        "model = LpProblem(\"Loading Truck Problem\", LpMaximize)\n",
        "# Define Decision Variables\n",
        "x = LpVariable.dicts('ship_', prod, cat='Binary')"
      ]
    },
    {
      "cell_type": "code",
      "execution_count": null,
      "metadata": {
        "colab": {
          "base_uri": "https://localhost:8080/"
        },
        "id": "bRnhsoxqKo2-",
        "outputId": "1dc772f2-b017-4690-d6a4-ee799d5eacf3"
      },
      "outputs": [
        {
          "data": {
            "text/plain": [
              "{'A': ship__A,\n",
              " 'B': ship__B,\n",
              " 'C': ship__C,\n",
              " 'D': ship__D,\n",
              " 'E': ship__E,\n",
              " 'F': ship__F}"
            ]
          },
          "execution_count": 279,
          "metadata": {},
          "output_type": "execute_result"
        }
      ],
      "source": [
        "x"
      ]
    },
    {
      "cell_type": "code",
      "execution_count": null,
      "metadata": {
        "id": "e2pTyN0FKJry"
      },
      "outputs": [],
      "source": [
        "# Define Objective\n",
        "model += lpSum([prof[i]*x[i] for i in prod])\n",
        "# Define Constraint\n",
        "model += lpSum([weight[i]*x[i] for i in prod]) <= 20000\n",
        "#model += x['E'] + x['D'] <= 1   will be alternative combination\n",
        "#model += x['D'] <= x['B']  or another constraint for combination"
      ]
    },
    {
      "cell_type": "code",
      "execution_count": null,
      "metadata": {
        "colab": {
          "base_uri": "https://localhost:8080/"
        },
        "id": "VrumalzyKLp0",
        "outputId": "3567be87-bf9a-4bd7-eae6-6b474f53a7a0"
      },
      "outputs": [
        {
          "name": "stdout",
          "output_type": "stream",
          "text": [
            "A status 0.0\n",
            "B status 0.0\n",
            "C status 0.0\n",
            "D status 1.0\n",
            "E status 1.0\n",
            "F status 1.0\n"
          ]
        }
      ],
      "source": [
        "# Solve Model\n",
        "model.solve()\n",
        "for i in prod: print(\"{} status {}\".format(i, x[i].varValue))"
      ]
    },
    {
      "cell_type": "markdown",
      "metadata": {
        "id": "DjHWEqObPwHJ"
      },
      "source": [
        "**Logistics planning problem**"
      ]
    },
    {
      "cell_type": "code",
      "execution_count": null,
      "metadata": {
        "id": "KgcCftB7NYgv"
      },
      "outputs": [],
      "source": [
        "months = ['Jan','Feb','Mar','Apr','May','Jun']\n",
        "warehouse =  ['New York','Atlanta']\n",
        "customers = ['East','Midwest','West','South']"
      ]
    },
    {
      "cell_type": "code",
      "execution_count": null,
      "metadata": {
        "id": "PsG0jwljNTYz"
      },
      "outputs": [],
      "source": [
        "costs = {('Atlanta', 'East'): 232,\n",
        " ('Atlanta', 'Midwest'): 230,\n",
        " ('Atlanta', 'South'): 212,\n",
        " ('Atlanta', 'West'): 280,\n",
        " ('New York', 'East'): 211,\n",
        " ('New York', 'Midwest'): 240,\n",
        " ('New York', 'South'): 232,\n",
        " ('New York', 'West'): 300}"
      ]
    },
    {
      "cell_type": "code",
      "execution_count": null,
      "metadata": {
        "id": "DKDYX7uoN59Z"
      },
      "outputs": [],
      "source": [
        "# Define decision variables\n",
        "key = [(m, w, c) for m in months for w in warehouse for c in customers]\n",
        "#key"
      ]
    },
    {
      "cell_type": "code",
      "execution_count": null,
      "metadata": {
        "id": "0GdJwTIQN9rn"
      },
      "outputs": [],
      "source": [
        "var_dict = LpVariable.dicts('num_of_shipments', key, lowBound=0, cat='Integer')\n",
        "#var_dict"
      ]
    },
    {
      "cell_type": "code",
      "execution_count": null,
      "metadata": {
        "id": "T32SdRk1OWld"
      },
      "outputs": [],
      "source": [
        "# Use the LpVariable dictionary variable to define objective\n",
        "model += lpSum([costs[(w, c)] * var_dict[(m, w, c)] for m in months for w in warehouse for c in customers])"
      ]
    },
    {
      "cell_type": "markdown",
      "metadata": {
        "id": "FBRwD-AbQXaP"
      },
      "source": [
        "**Traveling salesman problem (TSP)**"
      ]
    },
    {
      "cell_type": "code",
      "execution_count": null,
      "metadata": {
        "id": "X2I3iqU4MLA4"
      },
      "outputs": [],
      "source": [
        "#Initialize Class\n",
        "model = LpProblem(name=\"TSP\", sense=LpMinimize)"
      ]
    },
    {
      "cell_type": "code",
      "execution_count": null,
      "metadata": {
        "id": "-KnUHtfEQyu4"
      },
      "outputs": [],
      "source": [
        "n = 15 #cities\n",
        "cities = range(0, 15)\n",
        "#dist = dataframe"
      ]
    },
    {
      "cell_type": "code",
      "execution_count": null,
      "metadata": {
        "id": "3RqOYc_zB4bO"
      },
      "outputs": [],
      "source": [
        "list0 = [0, 29, 82, 46,  68, 52,  72,  42,  51,  55,  29,  74,  23,  72,  46]\n",
        "list1 = [29,  0,  55,  46,  42, 43,  43,  23,  23,  31,  41,  51,  11,  52,  21]\n",
        "list2 = [82, 55,  0, 68,  46, 55,  23,  43,  41,  29,  79,  21,  64,  31,  51]\n",
        "list3 = [46, 46,  68,  0, 82, 15, 72, 31, 62, 42, 21, 51,  51,  43,  64]\n",
        "list4 = [68, 42,  46,  82, 0, 74,  23,  52,  21,  46,  82,  58,  46,  65,  23]\n",
        "list5 = [52, 43,  55,  15,  74,  0,  61,  23,  55,  31,  33,  37,  51,  29,  59]\n",
        "list6 = [72, 43,  23, 72,  23, 61,  0,  42,  23,  31,  77,  37,  51,  46,  33]\n",
        "list7 = [42, 23,  43,  31,  52, 23,  42,  0,  33,  15,  37,  33,  33,  31,  37]\n",
        "list8 =  [51, 23,  41,  62,  21, 55,  23,  33,   0,  29, 62,  46,  29, 51,  11]\n",
        "list9 =  [55, 31,  29,  42,  46, 31,  31,  15,  29,   0,  51,  21,  41,  23,  37]\n",
        "list10 =  [29, 41,  79,  21,  82, 33,  77,  37,  62,  51,   0,  65,  42,  59,  61]\n",
        "list11 = [74, 51,  21, 51,  58, 37,  37,  33,  46,  21,  65,  0,  61,  11,  55]\n",
        "list12 = [23, 11, 64,  51,  46, 51,  51,  33,  29,  41,  42,  61,   0, 62, 23]\n",
        "list13 = [72, 52,  31,  43,  65, 29,  46,  31,  51,  23,  59,  11,  62,   0,  59]\n",
        "list14 = [46, 21, 51,  64,  23, 59,  33,  37, 11,  37,  61,  55,  23,  59 ,  0]"
      ]
    },
    {
      "cell_type": "code",
      "execution_count": null,
      "metadata": {
        "colab": {
          "base_uri": "https://localhost:8080/"
        },
        "id": "twi_pk3Zt5Gl",
        "outputId": "0d7a5d04-ed88-40e0-eed7-d8a574c6812d"
      },
      "outputs": [
        {
          "data": {
            "text/plain": [
              "[(0, 29, 82, 46, 68, 52, 72, 42, 51, 55, 29, 74, 23, 72, 46),\n",
              " (29, 0, 55, 46, 42, 43, 43, 23, 23, 31, 41, 51, 11, 52, 21),\n",
              " (82, 55, 0, 68, 46, 55, 23, 43, 41, 29, 79, 21, 64, 31, 51),\n",
              " (46, 46, 68, 0, 82, 15, 72, 31, 62, 42, 21, 51, 51, 43, 64),\n",
              " (68, 42, 46, 82, 0, 74, 23, 52, 21, 46, 82, 58, 46, 65, 23),\n",
              " (52, 43, 55, 15, 74, 0, 61, 23, 55, 31, 33, 37, 51, 29, 59),\n",
              " (72, 43, 23, 72, 23, 61, 0, 42, 23, 31, 77, 37, 51, 46, 33),\n",
              " (42, 23, 43, 31, 52, 23, 42, 0, 33, 15, 37, 33, 33, 31, 37),\n",
              " (51, 23, 41, 62, 21, 55, 23, 33, 0, 29, 62, 46, 29, 51, 11),\n",
              " (55, 31, 29, 42, 46, 31, 31, 15, 29, 0, 51, 21, 41, 23, 37),\n",
              " (29, 41, 79, 21, 82, 33, 77, 37, 62, 51, 0, 65, 42, 59, 61),\n",
              " (74, 51, 21, 51, 58, 37, 37, 33, 46, 21, 65, 0, 61, 11, 55),\n",
              " (23, 11, 64, 51, 46, 51, 51, 33, 29, 41, 42, 61, 0, 62, 23),\n",
              " (72, 52, 31, 43, 65, 29, 46, 31, 51, 23, 59, 11, 62, 0, 59),\n",
              " (46, 21, 51, 64, 23, 59, 33, 37, 11, 37, 61, 55, 23, 59, 0)]"
            ]
          },
          "execution_count": 285,
          "metadata": {},
          "output_type": "execute_result"
        }
      ],
      "source": [
        "list_of_lists = list(zip(list0, list1,list2,list3, list4,list5,list6,list7,list8,list9, list10,list11,\n",
        "                         list12, list13,list14))\n",
        "list_of_lists"
      ]
    },
    {
      "cell_type": "code",
      "execution_count": null,
      "metadata": {
        "id": "4RlxavEOvinH"
      },
      "outputs": [],
      "source": [
        "dist = pd.DataFrame(list_of_lists)"
      ]
    },
    {
      "cell_type": "code",
      "execution_count": null,
      "metadata": {
        "id": "7FAX7dlSKpnc"
      },
      "outputs": [],
      "source": [
        "import pandas as pd"
      ]
    },
    {
      "cell_type": "code",
      "execution_count": null,
      "metadata": {
        "id": "27bhvVGsL9ej"
      },
      "outputs": [],
      "source": [
        "# Define Decision Variables\n",
        "x = LpVariable.dicts('X', [(c1, c2) for c1 in cities for c2 in cities], cat='Binary')\n",
        "#x\n",
        "u = LpVariable.dicts('U', [c1 for c1 in cities],\n",
        "                     lowBound=0, upBound=(n-1), cat='Integer')\n",
        "#u"
      ]
    },
    {
      "cell_type": "code",
      "execution_count": null,
      "metadata": {
        "id": "dRCjdIcqNHKN"
      },
      "outputs": [],
      "source": [
        "# Define Objective\n",
        "model +=lpSum([dist.iloc[c1, c2] * x[(c1, c2)]\n",
        "                for c1 in cities for c2 in cities])"
      ]
    },
    {
      "cell_type": "code",
      "execution_count": null,
      "metadata": {
        "id": "36-FUgM0Qbw5"
      },
      "outputs": [],
      "source": [
        "# Define Constraints\n",
        "for c2 in cities: model += lpSum([x[(c1, c2)] for c1 in cities]) == 1\n",
        "for c1 in cities: model += lpSum([x[(c1, c2)] for c2 in cities]) == 1"
      ]
    },
    {
      "cell_type": "code",
      "execution_count": null,
      "metadata": {
        "colab": {
          "base_uri": "https://localhost:8080/"
        },
        "id": "ee5gSlKqwDfB",
        "outputId": "9d524f4b-45bc-4762-f4e1-a5afc024d27e"
      },
      "outputs": [
        {
          "name": "stdout",
          "output_type": "stream",
          "text": [
            "(0, 0) status 1.0\n",
            "(0, 1) status 0.0\n",
            "(0, 2) status 0.0\n",
            "(0, 3) status 0.0\n",
            "(0, 4) status 0.0\n",
            "(0, 5) status 0.0\n",
            "(0, 6) status 0.0\n",
            "(0, 7) status 0.0\n",
            "(0, 8) status 0.0\n",
            "(0, 9) status 0.0\n",
            "(0, 10) status 0.0\n",
            "(0, 11) status 0.0\n",
            "(0, 12) status 0.0\n",
            "(0, 13) status 0.0\n",
            "(0, 14) status 0.0\n",
            "(1, 0) status 0.0\n",
            "(1, 1) status 1.0\n",
            "(1, 2) status 0.0\n",
            "(1, 3) status 0.0\n",
            "(1, 4) status 0.0\n",
            "(1, 5) status 0.0\n",
            "(1, 6) status 0.0\n",
            "(1, 7) status 0.0\n",
            "(1, 8) status 0.0\n",
            "(1, 9) status 0.0\n",
            "(1, 10) status 0.0\n",
            "(1, 11) status 0.0\n",
            "(1, 12) status 0.0\n",
            "(1, 13) status 0.0\n",
            "(1, 14) status 0.0\n",
            "(2, 0) status 0.0\n",
            "(2, 1) status 0.0\n",
            "(2, 2) status 1.0\n",
            "(2, 3) status 0.0\n",
            "(2, 4) status 0.0\n",
            "(2, 5) status 0.0\n",
            "(2, 6) status 0.0\n",
            "(2, 7) status 0.0\n",
            "(2, 8) status 0.0\n",
            "(2, 9) status 0.0\n",
            "(2, 10) status 0.0\n",
            "(2, 11) status 0.0\n",
            "(2, 12) status 0.0\n",
            "(2, 13) status 0.0\n",
            "(2, 14) status 0.0\n",
            "(3, 0) status 0.0\n",
            "(3, 1) status 0.0\n",
            "(3, 2) status 0.0\n",
            "(3, 3) status 1.0\n",
            "(3, 4) status 0.0\n",
            "(3, 5) status 0.0\n",
            "(3, 6) status 0.0\n",
            "(3, 7) status 0.0\n",
            "(3, 8) status 0.0\n",
            "(3, 9) status 0.0\n",
            "(3, 10) status 0.0\n",
            "(3, 11) status 0.0\n",
            "(3, 12) status 0.0\n",
            "(3, 13) status 0.0\n",
            "(3, 14) status 0.0\n",
            "(4, 0) status 0.0\n",
            "(4, 1) status 0.0\n",
            "(4, 2) status 0.0\n",
            "(4, 3) status 0.0\n",
            "(4, 4) status 1.0\n",
            "(4, 5) status 0.0\n",
            "(4, 6) status 0.0\n",
            "(4, 7) status 0.0\n",
            "(4, 8) status 0.0\n",
            "(4, 9) status 0.0\n",
            "(4, 10) status 0.0\n",
            "(4, 11) status 0.0\n",
            "(4, 12) status 0.0\n",
            "(4, 13) status 0.0\n",
            "(4, 14) status 0.0\n",
            "(5, 0) status 0.0\n",
            "(5, 1) status 0.0\n",
            "(5, 2) status 0.0\n",
            "(5, 3) status 0.0\n",
            "(5, 4) status 0.0\n",
            "(5, 5) status 1.0\n",
            "(5, 6) status 0.0\n",
            "(5, 7) status 0.0\n",
            "(5, 8) status 0.0\n",
            "(5, 9) status 0.0\n",
            "(5, 10) status 0.0\n",
            "(5, 11) status 0.0\n",
            "(5, 12) status 0.0\n",
            "(5, 13) status 0.0\n",
            "(5, 14) status 0.0\n",
            "(6, 0) status 0.0\n",
            "(6, 1) status 0.0\n",
            "(6, 2) status 0.0\n",
            "(6, 3) status 0.0\n",
            "(6, 4) status 0.0\n",
            "(6, 5) status 0.0\n",
            "(6, 6) status 1.0\n",
            "(6, 7) status 0.0\n",
            "(6, 8) status 0.0\n",
            "(6, 9) status 0.0\n",
            "(6, 10) status 0.0\n",
            "(6, 11) status 0.0\n",
            "(6, 12) status 0.0\n",
            "(6, 13) status 0.0\n",
            "(6, 14) status 0.0\n",
            "(7, 0) status 0.0\n",
            "(7, 1) status 0.0\n",
            "(7, 2) status 0.0\n",
            "(7, 3) status 0.0\n",
            "(7, 4) status 0.0\n",
            "(7, 5) status 0.0\n",
            "(7, 6) status 0.0\n",
            "(7, 7) status 1.0\n",
            "(7, 8) status 0.0\n",
            "(7, 9) status 0.0\n",
            "(7, 10) status 0.0\n",
            "(7, 11) status 0.0\n",
            "(7, 12) status 0.0\n",
            "(7, 13) status 0.0\n",
            "(7, 14) status 0.0\n",
            "(8, 0) status 0.0\n",
            "(8, 1) status 0.0\n",
            "(8, 2) status 0.0\n",
            "(8, 3) status 0.0\n",
            "(8, 4) status 0.0\n",
            "(8, 5) status 0.0\n",
            "(8, 6) status 0.0\n",
            "(8, 7) status 0.0\n",
            "(8, 8) status 1.0\n",
            "(8, 9) status 0.0\n",
            "(8, 10) status 0.0\n",
            "(8, 11) status 0.0\n",
            "(8, 12) status 0.0\n",
            "(8, 13) status 0.0\n",
            "(8, 14) status 0.0\n",
            "(9, 0) status 0.0\n",
            "(9, 1) status 0.0\n",
            "(9, 2) status 0.0\n",
            "(9, 3) status 0.0\n",
            "(9, 4) status 0.0\n",
            "(9, 5) status 0.0\n",
            "(9, 6) status 0.0\n",
            "(9, 7) status 0.0\n",
            "(9, 8) status 0.0\n",
            "(9, 9) status 1.0\n",
            "(9, 10) status 0.0\n",
            "(9, 11) status 0.0\n",
            "(9, 12) status 0.0\n",
            "(9, 13) status 0.0\n",
            "(9, 14) status 0.0\n",
            "(10, 0) status 0.0\n",
            "(10, 1) status 0.0\n",
            "(10, 2) status 0.0\n",
            "(10, 3) status 0.0\n",
            "(10, 4) status 0.0\n",
            "(10, 5) status 0.0\n",
            "(10, 6) status 0.0\n",
            "(10, 7) status 0.0\n",
            "(10, 8) status 0.0\n",
            "(10, 9) status 0.0\n",
            "(10, 10) status 1.0\n",
            "(10, 11) status 0.0\n",
            "(10, 12) status 0.0\n",
            "(10, 13) status 0.0\n",
            "(10, 14) status 0.0\n",
            "(11, 0) status 0.0\n",
            "(11, 1) status 0.0\n",
            "(11, 2) status 0.0\n",
            "(11, 3) status 0.0\n",
            "(11, 4) status 0.0\n",
            "(11, 5) status 0.0\n",
            "(11, 6) status 0.0\n",
            "(11, 7) status 0.0\n",
            "(11, 8) status 0.0\n",
            "(11, 9) status 0.0\n",
            "(11, 10) status 0.0\n",
            "(11, 11) status 1.0\n",
            "(11, 12) status 0.0\n",
            "(11, 13) status 0.0\n",
            "(11, 14) status 0.0\n",
            "(12, 0) status 0.0\n",
            "(12, 1) status 0.0\n",
            "(12, 2) status 0.0\n",
            "(12, 3) status 0.0\n",
            "(12, 4) status 0.0\n",
            "(12, 5) status 0.0\n",
            "(12, 6) status 0.0\n",
            "(12, 7) status 0.0\n",
            "(12, 8) status 0.0\n",
            "(12, 9) status 0.0\n",
            "(12, 10) status 0.0\n",
            "(12, 11) status 0.0\n",
            "(12, 12) status 1.0\n",
            "(12, 13) status 0.0\n",
            "(12, 14) status 0.0\n",
            "(13, 0) status 0.0\n",
            "(13, 1) status 0.0\n",
            "(13, 2) status 0.0\n",
            "(13, 3) status 0.0\n",
            "(13, 4) status 0.0\n",
            "(13, 5) status 0.0\n",
            "(13, 6) status 0.0\n",
            "(13, 7) status 0.0\n",
            "(13, 8) status 0.0\n",
            "(13, 9) status 0.0\n",
            "(13, 10) status 0.0\n",
            "(13, 11) status 0.0\n",
            "(13, 12) status 0.0\n",
            "(13, 13) status 1.0\n",
            "(13, 14) status 0.0\n",
            "(14, 0) status 0.0\n",
            "(14, 1) status 0.0\n",
            "(14, 2) status 0.0\n",
            "(14, 3) status 0.0\n",
            "(14, 4) status 0.0\n",
            "(14, 5) status 0.0\n",
            "(14, 6) status 0.0\n",
            "(14, 7) status 0.0\n",
            "(14, 8) status 0.0\n",
            "(14, 9) status 0.0\n",
            "(14, 10) status 0.0\n",
            "(14, 11) status 0.0\n",
            "(14, 12) status 0.0\n",
            "(14, 13) status 0.0\n",
            "(14, 14) status 1.0\n"
          ]
        }
      ],
      "source": [
        "# Solve Model\n",
        "model.solve()\n",
        "for c1 in cities:\n",
        "  for c2 in cities:\n",
        "    print(\"{} status {}\".format((c1,c2),x[(c1,c2)].varValue))"
      ]
    },
    {
      "cell_type": "markdown",
      "metadata": {
        "id": "S_WEifN0VgwJ"
      },
      "source": [
        "**Minimize Transportation Costs**"
      ]
    },
    {
      "cell_type": "code",
      "execution_count": 337,
      "metadata": {
        "colab": {
          "base_uri": "https://localhost:8080/"
        },
        "id": "_cEeiFjq2m3k",
        "outputId": "88d94e64-0c48-4143-d1cb-7b7328b6a853"
      },
      "outputs": [
        {
          "output_type": "stream",
          "name": "stderr",
          "text": [
            "/usr/local/lib/python3.10/dist-packages/pulp/pulp.py:1352: UserWarning: Spaces are not permitted in the name. Converted to '_'\n",
            "  warnings.warn(\"Spaces are not permitted in the name. Converted to '_'\")\n"
          ]
        }
      ],
      "source": [
        "# Initialize Model\n",
        "model = LpProblem(\"Minimize Transportation Costs\", LpMinimize)"
      ]
    },
    {
      "cell_type": "code",
      "execution_count": 338,
      "metadata": {
        "id": "8s9266Cx2o5C"
      },
      "outputs": [],
      "source": [
        "# Build the lists and the demand dictionary\n",
        "warehouse = ['New York', 'Atlanta']\n",
        "customers = ['East', 'South', 'Midwest', 'West']\n",
        "regional_demand = [1800, 1200, 1100, 1000]\n",
        "demand = dict(zip(customers, regional_demand))"
      ]
    },
    {
      "cell_type": "code",
      "execution_count": 339,
      "metadata": {
        "id": "yn1JL-d13Vna"
      },
      "outputs": [],
      "source": [
        "list2_0 = [211,\t232]\n",
        "list2_1 = [232, 212]\n",
        "list2_2 = [240, 230]\n",
        "list2_3 = [300, 280]"
      ]
    },
    {
      "cell_type": "code",
      "execution_count": 340,
      "metadata": {
        "colab": {
          "base_uri": "https://localhost:8080/",
          "height": 112
        },
        "id": "-41eSmIC3wUV",
        "outputId": "708b6a0c-aec0-4579-dbaa-64e8e65867a5"
      },
      "outputs": [
        {
          "output_type": "execute_result",
          "data": {
            "text/plain": [
              "          East  South  Midwest  West\n",
              "New York   211    232      240   300\n",
              "Atlanta    232    212      230   280"
            ],
            "text/html": [
              "\n",
              "  <div id=\"df-d1f280bc-8e58-4f3a-8e56-cb217e253a07\" class=\"colab-df-container\">\n",
              "    <div>\n",
              "<style scoped>\n",
              "    .dataframe tbody tr th:only-of-type {\n",
              "        vertical-align: middle;\n",
              "    }\n",
              "\n",
              "    .dataframe tbody tr th {\n",
              "        vertical-align: top;\n",
              "    }\n",
              "\n",
              "    .dataframe thead th {\n",
              "        text-align: right;\n",
              "    }\n",
              "</style>\n",
              "<table border=\"1\" class=\"dataframe\">\n",
              "  <thead>\n",
              "    <tr style=\"text-align: right;\">\n",
              "      <th></th>\n",
              "      <th>East</th>\n",
              "      <th>South</th>\n",
              "      <th>Midwest</th>\n",
              "      <th>West</th>\n",
              "    </tr>\n",
              "  </thead>\n",
              "  <tbody>\n",
              "    <tr>\n",
              "      <th>New York</th>\n",
              "      <td>211</td>\n",
              "      <td>232</td>\n",
              "      <td>240</td>\n",
              "      <td>300</td>\n",
              "    </tr>\n",
              "    <tr>\n",
              "      <th>Atlanta</th>\n",
              "      <td>232</td>\n",
              "      <td>212</td>\n",
              "      <td>230</td>\n",
              "      <td>280</td>\n",
              "    </tr>\n",
              "  </tbody>\n",
              "</table>\n",
              "</div>\n",
              "    <div class=\"colab-df-buttons\">\n",
              "\n",
              "  <div class=\"colab-df-container\">\n",
              "    <button class=\"colab-df-convert\" onclick=\"convertToInteractive('df-d1f280bc-8e58-4f3a-8e56-cb217e253a07')\"\n",
              "            title=\"Convert this dataframe to an interactive table.\"\n",
              "            style=\"display:none;\">\n",
              "\n",
              "  <svg xmlns=\"http://www.w3.org/2000/svg\" height=\"24px\" viewBox=\"0 -960 960 960\">\n",
              "    <path d=\"M120-120v-720h720v720H120Zm60-500h600v-160H180v160Zm220 220h160v-160H400v160Zm0 220h160v-160H400v160ZM180-400h160v-160H180v160Zm440 0h160v-160H620v160ZM180-180h160v-160H180v160Zm440 0h160v-160H620v160Z\"/>\n",
              "  </svg>\n",
              "    </button>\n",
              "\n",
              "  <style>\n",
              "    .colab-df-container {\n",
              "      display:flex;\n",
              "      gap: 12px;\n",
              "    }\n",
              "\n",
              "    .colab-df-convert {\n",
              "      background-color: #E8F0FE;\n",
              "      border: none;\n",
              "      border-radius: 50%;\n",
              "      cursor: pointer;\n",
              "      display: none;\n",
              "      fill: #1967D2;\n",
              "      height: 32px;\n",
              "      padding: 0 0 0 0;\n",
              "      width: 32px;\n",
              "    }\n",
              "\n",
              "    .colab-df-convert:hover {\n",
              "      background-color: #E2EBFA;\n",
              "      box-shadow: 0px 1px 2px rgba(60, 64, 67, 0.3), 0px 1px 3px 1px rgba(60, 64, 67, 0.15);\n",
              "      fill: #174EA6;\n",
              "    }\n",
              "\n",
              "    .colab-df-buttons div {\n",
              "      margin-bottom: 4px;\n",
              "    }\n",
              "\n",
              "    [theme=dark] .colab-df-convert {\n",
              "      background-color: #3B4455;\n",
              "      fill: #D2E3FC;\n",
              "    }\n",
              "\n",
              "    [theme=dark] .colab-df-convert:hover {\n",
              "      background-color: #434B5C;\n",
              "      box-shadow: 0px 1px 3px 1px rgba(0, 0, 0, 0.15);\n",
              "      filter: drop-shadow(0px 1px 2px rgba(0, 0, 0, 0.3));\n",
              "      fill: #FFFFFF;\n",
              "    }\n",
              "  </style>\n",
              "\n",
              "    <script>\n",
              "      const buttonEl =\n",
              "        document.querySelector('#df-d1f280bc-8e58-4f3a-8e56-cb217e253a07 button.colab-df-convert');\n",
              "      buttonEl.style.display =\n",
              "        google.colab.kernel.accessAllowed ? 'block' : 'none';\n",
              "\n",
              "      async function convertToInteractive(key) {\n",
              "        const element = document.querySelector('#df-d1f280bc-8e58-4f3a-8e56-cb217e253a07');\n",
              "        const dataTable =\n",
              "          await google.colab.kernel.invokeFunction('convertToInteractive',\n",
              "                                                    [key], {});\n",
              "        if (!dataTable) return;\n",
              "\n",
              "        const docLinkHtml = 'Like what you see? Visit the ' +\n",
              "          '<a target=\"_blank\" href=https://colab.research.google.com/notebooks/data_table.ipynb>data table notebook</a>'\n",
              "          + ' to learn more about interactive tables.';\n",
              "        element.innerHTML = '';\n",
              "        dataTable['output_type'] = 'display_data';\n",
              "        await google.colab.output.renderOutput(dataTable, element);\n",
              "        const docLink = document.createElement('div');\n",
              "        docLink.innerHTML = docLinkHtml;\n",
              "        element.appendChild(docLink);\n",
              "      }\n",
              "    </script>\n",
              "  </div>\n",
              "\n",
              "\n",
              "<div id=\"df-1ff7ae42-bc26-4f04-9610-d3300948a229\">\n",
              "  <button class=\"colab-df-quickchart\" onclick=\"quickchart('df-1ff7ae42-bc26-4f04-9610-d3300948a229')\"\n",
              "            title=\"Suggest charts.\"\n",
              "            style=\"display:none;\">\n",
              "\n",
              "<svg xmlns=\"http://www.w3.org/2000/svg\" height=\"24px\"viewBox=\"0 0 24 24\"\n",
              "     width=\"24px\">\n",
              "    <g>\n",
              "        <path d=\"M19 3H5c-1.1 0-2 .9-2 2v14c0 1.1.9 2 2 2h14c1.1 0 2-.9 2-2V5c0-1.1-.9-2-2-2zM9 17H7v-7h2v7zm4 0h-2V7h2v10zm4 0h-2v-4h2v4z\"/>\n",
              "    </g>\n",
              "</svg>\n",
              "  </button>\n",
              "\n",
              "<style>\n",
              "  .colab-df-quickchart {\n",
              "      --bg-color: #E8F0FE;\n",
              "      --fill-color: #1967D2;\n",
              "      --hover-bg-color: #E2EBFA;\n",
              "      --hover-fill-color: #174EA6;\n",
              "      --disabled-fill-color: #AAA;\n",
              "      --disabled-bg-color: #DDD;\n",
              "  }\n",
              "\n",
              "  [theme=dark] .colab-df-quickchart {\n",
              "      --bg-color: #3B4455;\n",
              "      --fill-color: #D2E3FC;\n",
              "      --hover-bg-color: #434B5C;\n",
              "      --hover-fill-color: #FFFFFF;\n",
              "      --disabled-bg-color: #3B4455;\n",
              "      --disabled-fill-color: #666;\n",
              "  }\n",
              "\n",
              "  .colab-df-quickchart {\n",
              "    background-color: var(--bg-color);\n",
              "    border: none;\n",
              "    border-radius: 50%;\n",
              "    cursor: pointer;\n",
              "    display: none;\n",
              "    fill: var(--fill-color);\n",
              "    height: 32px;\n",
              "    padding: 0;\n",
              "    width: 32px;\n",
              "  }\n",
              "\n",
              "  .colab-df-quickchart:hover {\n",
              "    background-color: var(--hover-bg-color);\n",
              "    box-shadow: 0 1px 2px rgba(60, 64, 67, 0.3), 0 1px 3px 1px rgba(60, 64, 67, 0.15);\n",
              "    fill: var(--button-hover-fill-color);\n",
              "  }\n",
              "\n",
              "  .colab-df-quickchart-complete:disabled,\n",
              "  .colab-df-quickchart-complete:disabled:hover {\n",
              "    background-color: var(--disabled-bg-color);\n",
              "    fill: var(--disabled-fill-color);\n",
              "    box-shadow: none;\n",
              "  }\n",
              "\n",
              "  .colab-df-spinner {\n",
              "    border: 2px solid var(--fill-color);\n",
              "    border-color: transparent;\n",
              "    border-bottom-color: var(--fill-color);\n",
              "    animation:\n",
              "      spin 1s steps(1) infinite;\n",
              "  }\n",
              "\n",
              "  @keyframes spin {\n",
              "    0% {\n",
              "      border-color: transparent;\n",
              "      border-bottom-color: var(--fill-color);\n",
              "      border-left-color: var(--fill-color);\n",
              "    }\n",
              "    20% {\n",
              "      border-color: transparent;\n",
              "      border-left-color: var(--fill-color);\n",
              "      border-top-color: var(--fill-color);\n",
              "    }\n",
              "    30% {\n",
              "      border-color: transparent;\n",
              "      border-left-color: var(--fill-color);\n",
              "      border-top-color: var(--fill-color);\n",
              "      border-right-color: var(--fill-color);\n",
              "    }\n",
              "    40% {\n",
              "      border-color: transparent;\n",
              "      border-right-color: var(--fill-color);\n",
              "      border-top-color: var(--fill-color);\n",
              "    }\n",
              "    60% {\n",
              "      border-color: transparent;\n",
              "      border-right-color: var(--fill-color);\n",
              "    }\n",
              "    80% {\n",
              "      border-color: transparent;\n",
              "      border-right-color: var(--fill-color);\n",
              "      border-bottom-color: var(--fill-color);\n",
              "    }\n",
              "    90% {\n",
              "      border-color: transparent;\n",
              "      border-bottom-color: var(--fill-color);\n",
              "    }\n",
              "  }\n",
              "</style>\n",
              "\n",
              "  <script>\n",
              "    async function quickchart(key) {\n",
              "      const quickchartButtonEl =\n",
              "        document.querySelector('#' + key + ' button');\n",
              "      quickchartButtonEl.disabled = true;  // To prevent multiple clicks.\n",
              "      quickchartButtonEl.classList.add('colab-df-spinner');\n",
              "      try {\n",
              "        const charts = await google.colab.kernel.invokeFunction(\n",
              "            'suggestCharts', [key], {});\n",
              "      } catch (error) {\n",
              "        console.error('Error during call to suggestCharts:', error);\n",
              "      }\n",
              "      quickchartButtonEl.classList.remove('colab-df-spinner');\n",
              "      quickchartButtonEl.classList.add('colab-df-quickchart-complete');\n",
              "    }\n",
              "    (() => {\n",
              "      let quickchartButtonEl =\n",
              "        document.querySelector('#df-1ff7ae42-bc26-4f04-9610-d3300948a229 button');\n",
              "      quickchartButtonEl.style.display =\n",
              "        google.colab.kernel.accessAllowed ? 'block' : 'none';\n",
              "    })();\n",
              "  </script>\n",
              "</div>\n",
              "    </div>\n",
              "  </div>\n"
            ]
          },
          "metadata": {},
          "execution_count": 340
        }
      ],
      "source": [
        "costs = pd.DataFrame({customers[0]: list2_0, customers[1]:list2_1, customers[2]:list2_2,customers[3]:list2_3})\n",
        "costs.index = warehouse\n",
        "costs"
      ]
    },
    {
      "cell_type": "code",
      "execution_count": 341,
      "metadata": {
        "id": "iTzis8DjYwww"
      },
      "outputs": [],
      "source": [
        "x = LpVariable.dicts(\"wh\", [(w,c) for w in warehouse for c in customers], lowBound=0, cat='Integer')"
      ]
    },
    {
      "cell_type": "code",
      "execution_count": 343,
      "metadata": {
        "id": "RdesG9oeYoBL"
      },
      "outputs": [],
      "source": [
        "#define decision variable\n",
        "for w in warehouse:\n",
        "   for c in customers:\n",
        "    model += lpSum(costs.loc[w, c] * x[(w, c)])"
      ]
    },
    {
      "cell_type": "code",
      "execution_count": 344,
      "metadata": {
        "id": "8kPc-IUabAh1"
      },
      "outputs": [],
      "source": [
        "for c in customers:\n",
        "  model += lpSum([x[(w, c)]for w in warehouse]) == demand[c]"
      ]
    },
    {
      "cell_type": "code",
      "execution_count": 345,
      "metadata": {
        "colab": {
          "base_uri": "https://localhost:8080/"
        },
        "id": "XdQV7A0ibWgg",
        "outputId": "09928bb6-8f96-425a-bd9b-6402c184b2af"
      },
      "outputs": [
        {
          "output_type": "execute_result",
          "data": {
            "text/plain": [
              "1"
            ]
          },
          "metadata": {},
          "execution_count": 345
        }
      ],
      "source": [
        "# Solve Model\n",
        "model.solve()"
      ]
    },
    {
      "cell_type": "code",
      "source": [
        "print(\"Status:\", LpStatus[model.status])"
      ],
      "metadata": {
        "colab": {
          "base_uri": "https://localhost:8080/"
        },
        "id": "lYu5bPDHeyTb",
        "outputId": "7364cab1-6764-48c8-80cc-b9f2e782b387"
      },
      "execution_count": 346,
      "outputs": [
        {
          "output_type": "stream",
          "name": "stdout",
          "text": [
            "Status: Optimal\n"
          ]
        }
      ]
    },
    {
      "cell_type": "code",
      "source": [
        "with open(\"output.txt\", \"a\") as f:\n",
        "  for v in model.variables():\n",
        "    print(v.name, \"=\", v.varValue, file=f)"
      ],
      "metadata": {
        "id": "alFxXjU7fQXv"
      },
      "execution_count": 348,
      "outputs": []
    },
    {
      "cell_type": "code",
      "source": [
        "f"
      ],
      "metadata": {
        "colab": {
          "base_uri": "https://localhost:8080/"
        },
        "id": "ZiJ9t4ywiCpc",
        "outputId": "ad96bf13-4402-442a-9a75-d003f778b598"
      },
      "execution_count": 349,
      "outputs": [
        {
          "output_type": "execute_result",
          "data": {
            "text/plain": [
              "<_io.TextIOWrapper name='output.txt' mode='a' encoding='UTF-8'>"
            ]
          },
          "metadata": {},
          "execution_count": 349
        }
      ]
    }
  ],
  "metadata": {
    "colab": {
      "provenance": [],
      "authorship_tag": "ABX9TyPagellGYnNwyNetwkfO3wH",
      "include_colab_link": true
    },
    "kernelspec": {
      "display_name": "Python 3",
      "name": "python3"
    },
    "language_info": {
      "name": "python"
    }
  },
  "nbformat": 4,
  "nbformat_minor": 0
}